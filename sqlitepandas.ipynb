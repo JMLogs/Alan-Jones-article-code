{
  "nbformat": 4,
  "nbformat_minor": 0,
  "metadata": {
    "colab": {
      "name": "sqlitepandas.ipynb",
      "provenance": [],
      "collapsed_sections": [],
      "authorship_tag": "ABX9TyOxssN+N59+kEFNv+rDOlON",
      "include_colab_link": true
    },
    "kernelspec": {
      "name": "python3",
      "display_name": "Python 3"
    }
  },
  "cells": [
    {
      "cell_type": "markdown",
      "metadata": {
        "id": "view-in-github",
        "colab_type": "text"
      },
      "source": [
        "<a href=\"https://colab.research.google.com/github/alanjones2/Alan-Jones-article-code/blob/master/sqlitepandas.ipynb\" target=\"_parent\"><img src=\"https://colab.research.google.com/assets/colab-badge.svg\" alt=\"Open In Colab\"/></a>"
      ]
    },
    {
      "cell_type": "markdown",
      "metadata": {
        "id": "AYe2DDR4vn81"
      },
      "source": [
        "#Python pandas SQLite"
      ]
    },
    {
      "cell_type": "code",
      "metadata": {
        "id": "PfyHWg4affd-"
      },
      "source": [
        "import sqlite3 as sql\n",
        "import pandas as pd\n",
        "import matplotlib.pyplot as plt"
      ],
      "execution_count": 1,
      "outputs": []
    },
    {
      "cell_type": "markdown",
      "metadata": {
        "id": "dJ9-N1gyvnZj"
      },
      "source": [
        "now get the data\n",
        "\n",
        "1948 to 2018 = 70 years"
      ]
    },
    {
      "cell_type": "code",
      "metadata": {
        "id": "GEYNOusjf7nM",
        "colab": {
          "base_uri": "https://localhost:8080/",
          "height": 424
        },
        "outputId": "8b92b202-c603-4be6-a5a6-1be89d730c4c"
      },
      "source": [
        "weather = pd.read_csv('https://github.com/alanjones2/dataviz/raw/master/londonweather.csv')\n",
        "weather\n"
      ],
      "execution_count": 2,
      "outputs": [
        {
          "output_type": "execute_result",
          "data": {
            "text/html": [
              "<div>\n",
              "<style scoped>\n",
              "    .dataframe tbody tr th:only-of-type {\n",
              "        vertical-align: middle;\n",
              "    }\n",
              "\n",
              "    .dataframe tbody tr th {\n",
              "        vertical-align: top;\n",
              "    }\n",
              "\n",
              "    .dataframe thead th {\n",
              "        text-align: right;\n",
              "    }\n",
              "</style>\n",
              "<table border=\"1\" class=\"dataframe\">\n",
              "  <thead>\n",
              "    <tr style=\"text-align: right;\">\n",
              "      <th></th>\n",
              "      <th>Year</th>\n",
              "      <th>Month</th>\n",
              "      <th>Tmax</th>\n",
              "      <th>Tmin</th>\n",
              "      <th>Rain</th>\n",
              "      <th>Sun</th>\n",
              "    </tr>\n",
              "  </thead>\n",
              "  <tbody>\n",
              "    <tr>\n",
              "      <th>0</th>\n",
              "      <td>1957</td>\n",
              "      <td>1</td>\n",
              "      <td>8.7</td>\n",
              "      <td>2.7</td>\n",
              "      <td>39.5</td>\n",
              "      <td>53.0</td>\n",
              "    </tr>\n",
              "    <tr>\n",
              "      <th>1</th>\n",
              "      <td>1957</td>\n",
              "      <td>2</td>\n",
              "      <td>9.0</td>\n",
              "      <td>2.9</td>\n",
              "      <td>69.8</td>\n",
              "      <td>64.9</td>\n",
              "    </tr>\n",
              "    <tr>\n",
              "      <th>2</th>\n",
              "      <td>1957</td>\n",
              "      <td>3</td>\n",
              "      <td>13.9</td>\n",
              "      <td>5.7</td>\n",
              "      <td>25.4</td>\n",
              "      <td>96.7</td>\n",
              "    </tr>\n",
              "    <tr>\n",
              "      <th>3</th>\n",
              "      <td>1957</td>\n",
              "      <td>4</td>\n",
              "      <td>14.2</td>\n",
              "      <td>5.2</td>\n",
              "      <td>5.7</td>\n",
              "      <td>169.6</td>\n",
              "    </tr>\n",
              "    <tr>\n",
              "      <th>4</th>\n",
              "      <td>1957</td>\n",
              "      <td>5</td>\n",
              "      <td>16.2</td>\n",
              "      <td>6.5</td>\n",
              "      <td>21.3</td>\n",
              "      <td>195.0</td>\n",
              "    </tr>\n",
              "    <tr>\n",
              "      <th>...</th>\n",
              "      <td>...</td>\n",
              "      <td>...</td>\n",
              "      <td>...</td>\n",
              "      <td>...</td>\n",
              "      <td>...</td>\n",
              "      <td>...</td>\n",
              "    </tr>\n",
              "    <tr>\n",
              "      <th>743</th>\n",
              "      <td>2018</td>\n",
              "      <td>12</td>\n",
              "      <td>10.7</td>\n",
              "      <td>5.2</td>\n",
              "      <td>60.6</td>\n",
              "      <td>40.3</td>\n",
              "    </tr>\n",
              "    <tr>\n",
              "      <th>744</th>\n",
              "      <td>2019</td>\n",
              "      <td>1</td>\n",
              "      <td>7.6</td>\n",
              "      <td>2.0</td>\n",
              "      <td>33.2</td>\n",
              "      <td>56.4</td>\n",
              "    </tr>\n",
              "    <tr>\n",
              "      <th>745</th>\n",
              "      <td>2019</td>\n",
              "      <td>2</td>\n",
              "      <td>12.4</td>\n",
              "      <td>3.3</td>\n",
              "      <td>34.2</td>\n",
              "      <td>120.2</td>\n",
              "    </tr>\n",
              "    <tr>\n",
              "      <th>746</th>\n",
              "      <td>2019</td>\n",
              "      <td>3</td>\n",
              "      <td>13.1</td>\n",
              "      <td>5.8</td>\n",
              "      <td>49.6</td>\n",
              "      <td>119.0</td>\n",
              "    </tr>\n",
              "    <tr>\n",
              "      <th>747</th>\n",
              "      <td>2019</td>\n",
              "      <td>4</td>\n",
              "      <td>15.8</td>\n",
              "      <td>5.7</td>\n",
              "      <td>12.8</td>\n",
              "      <td>170.1</td>\n",
              "    </tr>\n",
              "  </tbody>\n",
              "</table>\n",
              "<p>748 rows × 6 columns</p>\n",
              "</div>"
            ],
            "text/plain": [
              "     Year  Month  Tmax  Tmin  Rain    Sun\n",
              "0    1957      1   8.7   2.7  39.5   53.0\n",
              "1    1957      2   9.0   2.9  69.8   64.9\n",
              "2    1957      3  13.9   5.7  25.4   96.7\n",
              "3    1957      4  14.2   5.2   5.7  169.6\n",
              "4    1957      5  16.2   6.5  21.3  195.0\n",
              "..    ...    ...   ...   ...   ...    ...\n",
              "743  2018     12  10.7   5.2  60.6   40.3\n",
              "744  2019      1   7.6   2.0  33.2   56.4\n",
              "745  2019      2  12.4   3.3  34.2  120.2\n",
              "746  2019      3  13.1   5.8  49.6  119.0\n",
              "747  2019      4  15.8   5.7  12.8  170.1\n",
              "\n",
              "[748 rows x 6 columns]"
            ]
          },
          "metadata": {
            "tags": []
          },
          "execution_count": 2
        }
      ]
    },
    {
      "cell_type": "markdown",
      "metadata": {
        "id": "pl7MRVoeRlX-"
      },
      "source": [
        "\n",
        "\n",
        "```\n",
        "# This is formatted as code\n",
        "```\n",
        "\n",
        "open a connection to a new sqlite database and then create a new table in that database called weather"
      ]
    },
    {
      "cell_type": "code",
      "metadata": {
        "id": "Rm-7ZjV1GiXF",
        "colab": {
          "base_uri": "https://localhost:8080/"
        },
        "outputId": "67d4db98-8131-4dfb-b836-0be30993fc05"
      },
      "source": [
        "!rm weather.db\n",
        "conn = sql.connect('weather.db')\n",
        "weather.to_sql('weather', conn)"
      ],
      "execution_count": 3,
      "outputs": [
        {
          "output_type": "stream",
          "text": [
            "rm: cannot remove 'weather.db': No such file or directory\n"
          ],
          "name": "stdout"
        }
      ]
    },
    {
      "cell_type": "markdown",
      "metadata": {
        "id": "tHD48EuaeB3Q"
      },
      "source": [
        "We don't need to run this code ever again unless the original data changes"
      ]
    },
    {
      "cell_type": "markdown",
      "metadata": {
        "id": "tobK7ukkHn09"
      },
      "source": [
        "Let's assume we are starting from scratch, the database exist - we created it before - so we need to make the connection to the existing database and then load it into a dataframe. Here is how we load the database table into a dataframe\n",
        "send a query to the database\n",
        "~~~sql\n",
        "SELECT * FROM weather\n",
        "~~~\n",
        "means select all columns from the table called weather\n",
        "use the read_sql method to get the data from that query and load into a dataframe"
      ]
    },
    {
      "cell_type": "markdown",
      "metadata": {
        "id": "BuXOAp5vUsrA"
      },
      "source": [
        ""
      ]
    },
    {
      "cell_type": "code",
      "metadata": {
        "id": "pViIQx3fdzM_",
        "colab": {
          "base_uri": "https://localhost:8080/",
          "height": 424
        },
        "outputId": "1e33ed1d-1dfa-411f-bc88-95632903964a"
      },
      "source": [
        "conn = sql.connect('weather.db')\n",
        "\n",
        "weather = pd.read_sql('SELECT * FROM weather', conn)\n",
        "weather"
      ],
      "execution_count": 4,
      "outputs": [
        {
          "output_type": "execute_result",
          "data": {
            "text/html": [
              "<div>\n",
              "<style scoped>\n",
              "    .dataframe tbody tr th:only-of-type {\n",
              "        vertical-align: middle;\n",
              "    }\n",
              "\n",
              "    .dataframe tbody tr th {\n",
              "        vertical-align: top;\n",
              "    }\n",
              "\n",
              "    .dataframe thead th {\n",
              "        text-align: right;\n",
              "    }\n",
              "</style>\n",
              "<table border=\"1\" class=\"dataframe\">\n",
              "  <thead>\n",
              "    <tr style=\"text-align: right;\">\n",
              "      <th></th>\n",
              "      <th>index</th>\n",
              "      <th>Year</th>\n",
              "      <th>Month</th>\n",
              "      <th>Tmax</th>\n",
              "      <th>Tmin</th>\n",
              "      <th>Rain</th>\n",
              "      <th>Sun</th>\n",
              "    </tr>\n",
              "  </thead>\n",
              "  <tbody>\n",
              "    <tr>\n",
              "      <th>0</th>\n",
              "      <td>0</td>\n",
              "      <td>1957</td>\n",
              "      <td>1</td>\n",
              "      <td>8.7</td>\n",
              "      <td>2.7</td>\n",
              "      <td>39.5</td>\n",
              "      <td>53.0</td>\n",
              "    </tr>\n",
              "    <tr>\n",
              "      <th>1</th>\n",
              "      <td>1</td>\n",
              "      <td>1957</td>\n",
              "      <td>2</td>\n",
              "      <td>9.0</td>\n",
              "      <td>2.9</td>\n",
              "      <td>69.8</td>\n",
              "      <td>64.9</td>\n",
              "    </tr>\n",
              "    <tr>\n",
              "      <th>2</th>\n",
              "      <td>2</td>\n",
              "      <td>1957</td>\n",
              "      <td>3</td>\n",
              "      <td>13.9</td>\n",
              "      <td>5.7</td>\n",
              "      <td>25.4</td>\n",
              "      <td>96.7</td>\n",
              "    </tr>\n",
              "    <tr>\n",
              "      <th>3</th>\n",
              "      <td>3</td>\n",
              "      <td>1957</td>\n",
              "      <td>4</td>\n",
              "      <td>14.2</td>\n",
              "      <td>5.2</td>\n",
              "      <td>5.7</td>\n",
              "      <td>169.6</td>\n",
              "    </tr>\n",
              "    <tr>\n",
              "      <th>4</th>\n",
              "      <td>4</td>\n",
              "      <td>1957</td>\n",
              "      <td>5</td>\n",
              "      <td>16.2</td>\n",
              "      <td>6.5</td>\n",
              "      <td>21.3</td>\n",
              "      <td>195.0</td>\n",
              "    </tr>\n",
              "    <tr>\n",
              "      <th>...</th>\n",
              "      <td>...</td>\n",
              "      <td>...</td>\n",
              "      <td>...</td>\n",
              "      <td>...</td>\n",
              "      <td>...</td>\n",
              "      <td>...</td>\n",
              "      <td>...</td>\n",
              "    </tr>\n",
              "    <tr>\n",
              "      <th>743</th>\n",
              "      <td>743</td>\n",
              "      <td>2018</td>\n",
              "      <td>12</td>\n",
              "      <td>10.7</td>\n",
              "      <td>5.2</td>\n",
              "      <td>60.6</td>\n",
              "      <td>40.3</td>\n",
              "    </tr>\n",
              "    <tr>\n",
              "      <th>744</th>\n",
              "      <td>744</td>\n",
              "      <td>2019</td>\n",
              "      <td>1</td>\n",
              "      <td>7.6</td>\n",
              "      <td>2.0</td>\n",
              "      <td>33.2</td>\n",
              "      <td>56.4</td>\n",
              "    </tr>\n",
              "    <tr>\n",
              "      <th>745</th>\n",
              "      <td>745</td>\n",
              "      <td>2019</td>\n",
              "      <td>2</td>\n",
              "      <td>12.4</td>\n",
              "      <td>3.3</td>\n",
              "      <td>34.2</td>\n",
              "      <td>120.2</td>\n",
              "    </tr>\n",
              "    <tr>\n",
              "      <th>746</th>\n",
              "      <td>746</td>\n",
              "      <td>2019</td>\n",
              "      <td>3</td>\n",
              "      <td>13.1</td>\n",
              "      <td>5.8</td>\n",
              "      <td>49.6</td>\n",
              "      <td>119.0</td>\n",
              "    </tr>\n",
              "    <tr>\n",
              "      <th>747</th>\n",
              "      <td>747</td>\n",
              "      <td>2019</td>\n",
              "      <td>4</td>\n",
              "      <td>15.8</td>\n",
              "      <td>5.7</td>\n",
              "      <td>12.8</td>\n",
              "      <td>170.1</td>\n",
              "    </tr>\n",
              "  </tbody>\n",
              "</table>\n",
              "<p>748 rows × 7 columns</p>\n",
              "</div>"
            ],
            "text/plain": [
              "     index  Year  Month  Tmax  Tmin  Rain    Sun\n",
              "0        0  1957      1   8.7   2.7  39.5   53.0\n",
              "1        1  1957      2   9.0   2.9  69.8   64.9\n",
              "2        2  1957      3  13.9   5.7  25.4   96.7\n",
              "3        3  1957      4  14.2   5.2   5.7  169.6\n",
              "4        4  1957      5  16.2   6.5  21.3  195.0\n",
              "..     ...   ...    ...   ...   ...   ...    ...\n",
              "743    743  2018     12  10.7   5.2  60.6   40.3\n",
              "744    744  2019      1   7.6   2.0  33.2   56.4\n",
              "745    745  2019      2  12.4   3.3  34.2  120.2\n",
              "746    746  2019      3  13.1   5.8  49.6  119.0\n",
              "747    747  2019      4  15.8   5.7  12.8  170.1\n",
              "\n",
              "[748 rows x 7 columns]"
            ]
          },
          "metadata": {
            "tags": []
          },
          "execution_count": 4
        }
      ]
    },
    {
      "cell_type": "markdown",
      "metadata": {
        "id": "jzRa_qrCVBNm"
      },
      "source": [
        "that is just reproducing the original\n",
        "\n",
        "let's use the power of SQL to load the data that we need\n",
        "\n",
        "get the data just for the year 2010\n",
        "similar to before but we add a WHERE clause. This only selects the data where the condition is true. So, we only get the rows of data where the value in the year column is '2010'"
      ]
    },
    {
      "cell_type": "code",
      "metadata": {
        "id": "wgUdidubHptK",
        "colab": {
          "base_uri": "https://localhost:8080/",
          "height": 426
        },
        "outputId": "3dd29e6f-b0d2-4663-da5d-eafd1a8d8146"
      },
      "source": [
        "y2010 = pd.read_sql('SELECT * FROM weather WHERE Year == 2010', conn)\n",
        "y2010"
      ],
      "execution_count": 5,
      "outputs": [
        {
          "output_type": "execute_result",
          "data": {
            "text/html": [
              "<div>\n",
              "<style scoped>\n",
              "    .dataframe tbody tr th:only-of-type {\n",
              "        vertical-align: middle;\n",
              "    }\n",
              "\n",
              "    .dataframe tbody tr th {\n",
              "        vertical-align: top;\n",
              "    }\n",
              "\n",
              "    .dataframe thead th {\n",
              "        text-align: right;\n",
              "    }\n",
              "</style>\n",
              "<table border=\"1\" class=\"dataframe\">\n",
              "  <thead>\n",
              "    <tr style=\"text-align: right;\">\n",
              "      <th></th>\n",
              "      <th>index</th>\n",
              "      <th>Year</th>\n",
              "      <th>Month</th>\n",
              "      <th>Tmax</th>\n",
              "      <th>Tmin</th>\n",
              "      <th>Rain</th>\n",
              "      <th>Sun</th>\n",
              "    </tr>\n",
              "  </thead>\n",
              "  <tbody>\n",
              "    <tr>\n",
              "      <th>0</th>\n",
              "      <td>636</td>\n",
              "      <td>2010</td>\n",
              "      <td>1</td>\n",
              "      <td>4.5</td>\n",
              "      <td>-0.3</td>\n",
              "      <td>51.8</td>\n",
              "      <td>51.3</td>\n",
              "    </tr>\n",
              "    <tr>\n",
              "      <th>1</th>\n",
              "      <td>637</td>\n",
              "      <td>2010</td>\n",
              "      <td>2</td>\n",
              "      <td>6.9</td>\n",
              "      <td>1.7</td>\n",
              "      <td>100.4</td>\n",
              "      <td>46.7</td>\n",
              "    </tr>\n",
              "    <tr>\n",
              "      <th>2</th>\n",
              "      <td>638</td>\n",
              "      <td>2010</td>\n",
              "      <td>3</td>\n",
              "      <td>11.1</td>\n",
              "      <td>3.7</td>\n",
              "      <td>39.8</td>\n",
              "      <td>106.4</td>\n",
              "    </tr>\n",
              "    <tr>\n",
              "      <th>3</th>\n",
              "      <td>639</td>\n",
              "      <td>2010</td>\n",
              "      <td>4</td>\n",
              "      <td>15.8</td>\n",
              "      <td>5.6</td>\n",
              "      <td>23.2</td>\n",
              "      <td>201.7</td>\n",
              "    </tr>\n",
              "    <tr>\n",
              "      <th>4</th>\n",
              "      <td>640</td>\n",
              "      <td>2010</td>\n",
              "      <td>5</td>\n",
              "      <td>17.3</td>\n",
              "      <td>7.7</td>\n",
              "      <td>20.6</td>\n",
              "      <td>170.4</td>\n",
              "    </tr>\n",
              "    <tr>\n",
              "      <th>5</th>\n",
              "      <td>641</td>\n",
              "      <td>2010</td>\n",
              "      <td>6</td>\n",
              "      <td>23.5</td>\n",
              "      <td>12.1</td>\n",
              "      <td>12.4</td>\n",
              "      <td>220.1</td>\n",
              "    </tr>\n",
              "    <tr>\n",
              "      <th>6</th>\n",
              "      <td>642</td>\n",
              "      <td>2010</td>\n",
              "      <td>7</td>\n",
              "      <td>25.0</td>\n",
              "      <td>15.1</td>\n",
              "      <td>18.0</td>\n",
              "      <td>161.8</td>\n",
              "    </tr>\n",
              "    <tr>\n",
              "      <th>7</th>\n",
              "      <td>643</td>\n",
              "      <td>2010</td>\n",
              "      <td>8</td>\n",
              "      <td>21.6</td>\n",
              "      <td>13.2</td>\n",
              "      <td>88.6</td>\n",
              "      <td>110.9</td>\n",
              "    </tr>\n",
              "    <tr>\n",
              "      <th>8</th>\n",
              "      <td>644</td>\n",
              "      <td>2010</td>\n",
              "      <td>9</td>\n",
              "      <td>19.4</td>\n",
              "      <td>11.2</td>\n",
              "      <td>38.2</td>\n",
              "      <td>128.7</td>\n",
              "    </tr>\n",
              "    <tr>\n",
              "      <th>9</th>\n",
              "      <td>645</td>\n",
              "      <td>2010</td>\n",
              "      <td>10</td>\n",
              "      <td>15.2</td>\n",
              "      <td>8.3</td>\n",
              "      <td>74.8</td>\n",
              "      <td>104.0</td>\n",
              "    </tr>\n",
              "    <tr>\n",
              "      <th>10</th>\n",
              "      <td>646</td>\n",
              "      <td>2010</td>\n",
              "      <td>11</td>\n",
              "      <td>9.1</td>\n",
              "      <td>4.0</td>\n",
              "      <td>32.2</td>\n",
              "      <td>50.0</td>\n",
              "    </tr>\n",
              "    <tr>\n",
              "      <th>11</th>\n",
              "      <td>647</td>\n",
              "      <td>2010</td>\n",
              "      <td>12</td>\n",
              "      <td>3.9</td>\n",
              "      <td>-1.5</td>\n",
              "      <td>21.4</td>\n",
              "      <td>18.5</td>\n",
              "    </tr>\n",
              "  </tbody>\n",
              "</table>\n",
              "</div>"
            ],
            "text/plain": [
              "    index  Year  Month  Tmax  Tmin   Rain    Sun\n",
              "0     636  2010      1   4.5  -0.3   51.8   51.3\n",
              "1     637  2010      2   6.9   1.7  100.4   46.7\n",
              "2     638  2010      3  11.1   3.7   39.8  106.4\n",
              "3     639  2010      4  15.8   5.6   23.2  201.7\n",
              "4     640  2010      5  17.3   7.7   20.6  170.4\n",
              "5     641  2010      6  23.5  12.1   12.4  220.1\n",
              "6     642  2010      7  25.0  15.1   18.0  161.8\n",
              "7     643  2010      8  21.6  13.2   88.6  110.9\n",
              "8     644  2010      9  19.4  11.2   38.2  128.7\n",
              "9     645  2010     10  15.2   8.3   74.8  104.0\n",
              "10    646  2010     11   9.1   4.0   32.2   50.0\n",
              "11    647  2010     12   3.9  -1.5   21.4   18.5"
            ]
          },
          "metadata": {
            "tags": []
          },
          "execution_count": 5
        }
      ]
    },
    {
      "cell_type": "markdown",
      "metadata": {
        "id": "BVMVVgiGWvNY"
      },
      "source": [
        "you can see it is the data for the year 2010\n",
        "here's a line plot for Tmax"
      ]
    },
    {
      "cell_type": "code",
      "metadata": {
        "id": "-rBcqFUwIWWI",
        "colab": {
          "base_uri": "https://localhost:8080/",
          "height": 265
        },
        "outputId": "ab9bd7d5-2e0f-4f58-ae57-827f37a28d2d"
      },
      "source": [
        "ax2010 = y2010.plot(y='Tmax', xticks=y2010['Month'])"
      ],
      "execution_count": 6,
      "outputs": [
        {
          "output_type": "display_data",
          "data": {
            "image/png": "[encoded data removed]",
            "text/plain": [
              "<Figure size 432x288 with 1 Axes>"
            ]
          },
          "metadata": {
            "tags": [],
            "needs_background": "light"
          }
        }
      ]
    },
    {
      "cell_type": "markdown",
      "metadata": {
        "id": "zylERvayXI85"
      },
      "source": [
        "let's do that again for 1960, 50 years earlier"
      ]
    },
    {
      "cell_type": "code",
      "metadata": {
        "id": "EfRH5XYRdxkq",
        "colab": {
          "base_uri": "https://localhost:8080/",
          "height": 426
        },
        "outputId": "3efa6c23-8e86-4886-cef5-7a2702c1b59a"
      },
      "source": [
        "y1960 = pd.read_sql('SELECT * FROM weather WHERE Year == 1960', conn)\n",
        "y1960"
      ],
      "execution_count": 7,
      "outputs": [
        {
          "output_type": "execute_result",
          "data": {
            "text/html": [
              "<div>\n",
              "<style scoped>\n",
              "    .dataframe tbody tr th:only-of-type {\n",
              "        vertical-align: middle;\n",
              "    }\n",
              "\n",
              "    .dataframe tbody tr th {\n",
              "        vertical-align: top;\n",
              "    }\n",
              "\n",
              "    .dataframe thead th {\n",
              "        text-align: right;\n",
              "    }\n",
              "</style>\n",
              "<table border=\"1\" class=\"dataframe\">\n",
              "  <thead>\n",
              "    <tr style=\"text-align: right;\">\n",
              "      <th></th>\n",
              "      <th>index</th>\n",
              "      <th>Year</th>\n",
              "      <th>Month</th>\n",
              "      <th>Tmax</th>\n",
              "      <th>Tmin</th>\n",
              "      <th>Rain</th>\n",
              "      <th>Sun</th>\n",
              "    </tr>\n",
              "  </thead>\n",
              "  <tbody>\n",
              "    <tr>\n",
              "      <th>0</th>\n",
              "      <td>36</td>\n",
              "      <td>1960</td>\n",
              "      <td>1</td>\n",
              "      <td>6.9</td>\n",
              "      <td>1.8</td>\n",
              "      <td>47.9</td>\n",
              "      <td>34.4</td>\n",
              "    </tr>\n",
              "    <tr>\n",
              "      <th>1</th>\n",
              "      <td>37</td>\n",
              "      <td>1960</td>\n",
              "      <td>2</td>\n",
              "      <td>7.9</td>\n",
              "      <td>1.6</td>\n",
              "      <td>48.0</td>\n",
              "      <td>80.1</td>\n",
              "    </tr>\n",
              "    <tr>\n",
              "      <th>2</th>\n",
              "      <td>38</td>\n",
              "      <td>1960</td>\n",
              "      <td>3</td>\n",
              "      <td>10.2</td>\n",
              "      <td>4.5</td>\n",
              "      <td>33.9</td>\n",
              "      <td>65.0</td>\n",
              "    </tr>\n",
              "    <tr>\n",
              "      <th>3</th>\n",
              "      <td>39</td>\n",
              "      <td>1960</td>\n",
              "      <td>4</td>\n",
              "      <td>14.3</td>\n",
              "      <td>4.6</td>\n",
              "      <td>12.4</td>\n",
              "      <td>156.1</td>\n",
              "    </tr>\n",
              "    <tr>\n",
              "      <th>4</th>\n",
              "      <td>40</td>\n",
              "      <td>1960</td>\n",
              "      <td>5</td>\n",
              "      <td>18.4</td>\n",
              "      <td>9.3</td>\n",
              "      <td>45.6</td>\n",
              "      <td>181.7</td>\n",
              "    </tr>\n",
              "    <tr>\n",
              "      <th>5</th>\n",
              "      <td>41</td>\n",
              "      <td>1960</td>\n",
              "      <td>6</td>\n",
              "      <td>22.1</td>\n",
              "      <td>12.1</td>\n",
              "      <td>42.8</td>\n",
              "      <td>248.6</td>\n",
              "    </tr>\n",
              "    <tr>\n",
              "      <th>6</th>\n",
              "      <td>42</td>\n",
              "      <td>1960</td>\n",
              "      <td>7</td>\n",
              "      <td>20.1</td>\n",
              "      <td>12.4</td>\n",
              "      <td>67.2</td>\n",
              "      <td>139.7</td>\n",
              "    </tr>\n",
              "    <tr>\n",
              "      <th>7</th>\n",
              "      <td>43</td>\n",
              "      <td>1960</td>\n",
              "      <td>8</td>\n",
              "      <td>20.3</td>\n",
              "      <td>11.8</td>\n",
              "      <td>60.8</td>\n",
              "      <td>150.9</td>\n",
              "    </tr>\n",
              "    <tr>\n",
              "      <th>8</th>\n",
              "      <td>44</td>\n",
              "      <td>1960</td>\n",
              "      <td>9</td>\n",
              "      <td>18.5</td>\n",
              "      <td>10.5</td>\n",
              "      <td>75.3</td>\n",
              "      <td>128.4</td>\n",
              "    </tr>\n",
              "    <tr>\n",
              "      <th>9</th>\n",
              "      <td>45</td>\n",
              "      <td>1960</td>\n",
              "      <td>10</td>\n",
              "      <td>14.2</td>\n",
              "      <td>8.2</td>\n",
              "      <td>155.5</td>\n",
              "      <td>75.2</td>\n",
              "    </tr>\n",
              "    <tr>\n",
              "      <th>10</th>\n",
              "      <td>46</td>\n",
              "      <td>1960</td>\n",
              "      <td>11</td>\n",
              "      <td>11.2</td>\n",
              "      <td>4.5</td>\n",
              "      <td>89.5</td>\n",
              "      <td>69.4</td>\n",
              "    </tr>\n",
              "    <tr>\n",
              "      <th>11</th>\n",
              "      <td>47</td>\n",
              "      <td>1960</td>\n",
              "      <td>12</td>\n",
              "      <td>6.9</td>\n",
              "      <td>2.1</td>\n",
              "      <td>56.5</td>\n",
              "      <td>44.5</td>\n",
              "    </tr>\n",
              "  </tbody>\n",
              "</table>\n",
              "</div>"
            ],
            "text/plain": [
              "    index  Year  Month  Tmax  Tmin   Rain    Sun\n",
              "0      36  1960      1   6.9   1.8   47.9   34.4\n",
              "1      37  1960      2   7.9   1.6   48.0   80.1\n",
              "2      38  1960      3  10.2   4.5   33.9   65.0\n",
              "3      39  1960      4  14.3   4.6   12.4  156.1\n",
              "4      40  1960      5  18.4   9.3   45.6  181.7\n",
              "5      41  1960      6  22.1  12.1   42.8  248.6\n",
              "6      42  1960      7  20.1  12.4   67.2  139.7\n",
              "7      43  1960      8  20.3  11.8   60.8  150.9\n",
              "8      44  1960      9  18.5  10.5   75.3  128.4\n",
              "9      45  1960     10  14.2   8.2  155.5   75.2\n",
              "10     46  1960     11  11.2   4.5   89.5   69.4\n",
              "11     47  1960     12   6.9   2.1   56.5   44.5"
            ]
          },
          "metadata": {
            "tags": []
          },
          "execution_count": 7
        }
      ]
    },
    {
      "cell_type": "markdown",
      "metadata": {
        "id": "y5AaB7kQXlZ4"
      },
      "source": [
        "and plot the Tmax for the two years"
      ]
    },
    {
      "cell_type": "code",
      "metadata": {
        "id": "oax9nUVOgHRs",
        "colab": {
          "base_uri": "https://localhost:8080/",
          "height": 284
        },
        "outputId": "b3c225ed-c225-47bc-dda6-b52c0847c23a"
      },
      "source": [
        "ax2010 = y2010.plot(y='Tmax')\n",
        "ax = y1960.plot(y='Tmax',color = 'red', ax=ax2010)\n",
        "ax.legend(['2010','1960'])"
      ],
      "execution_count": 8,
      "outputs": [
        {
          "output_type": "execute_result",
          "data": {
            "text/plain": [
              "<matplotlib.legend.Legend at 0x7fa599421f50>"
            ]
          },
          "metadata": {
            "tags": []
          },
          "execution_count": 8
        },
        {
          "output_type": "display_data",
          "data": {
            "image/png": "[encoded data removed]",
            "text/plain": [
              "<Figure size 432x288 with 1 Axes>"
            ]
          },
          "metadata": {
            "tags": [],
            "needs_background": "light"
          }
        }
      ]
    },
    {
      "cell_type": "markdown",
      "metadata": {
        "id": "heDd4IIAXtzP"
      },
      "source": [
        "interesting, 2010 was both hotter an colder than 1960 it seems\n",
        "\n",
        "Which were the hottest years\n",
        "\n",
        "Here the WHERE clause is Tmax > 25, that is,let's select the rows where Tmax was more than 25 degrees\n",
        "\n",
        "But also since we are only interested in the max temperature, let's ignore the columns that we are not intersted in\n",
        "\n",
        "WHERE is not * = ALL now. we list the columns that we want returned"
      ]
    },
    {
      "cell_type": "markdown",
      "metadata": {
        "id": "5WlAcsk4Zake"
      },
      "source": [
        ""
      ]
    },
    {
      "cell_type": "code",
      "metadata": {
        "id": "Ean1FBRyko0m",
        "colab": {
          "base_uri": "https://localhost:8080/",
          "height": 551
        },
        "outputId": "04f667b8-e1ae-49e2-a4e2-d8d07fd6a71c"
      },
      "source": [
        "high = pd.read_sql('SELECT Year,Month,Tmax FROM weather WHERE Tmax > 25', conn)\n",
        "high"
      ],
      "execution_count": 9,
      "outputs": [
        {
          "output_type": "execute_result",
          "data": {
            "text/html": [
              "<div>\n",
              "<style scoped>\n",
              "    .dataframe tbody tr th:only-of-type {\n",
              "        vertical-align: middle;\n",
              "    }\n",
              "\n",
              "    .dataframe tbody tr th {\n",
              "        vertical-align: top;\n",
              "    }\n",
              "\n",
              "    .dataframe thead th {\n",
              "        text-align: right;\n",
              "    }\n",
              "</style>\n",
              "<table border=\"1\" class=\"dataframe\">\n",
              "  <thead>\n",
              "    <tr style=\"text-align: right;\">\n",
              "      <th></th>\n",
              "      <th>Year</th>\n",
              "      <th>Month</th>\n",
              "      <th>Tmax</th>\n",
              "    </tr>\n",
              "  </thead>\n",
              "  <tbody>\n",
              "    <tr>\n",
              "      <th>0</th>\n",
              "      <td>1975</td>\n",
              "      <td>8</td>\n",
              "      <td>25.9</td>\n",
              "    </tr>\n",
              "    <tr>\n",
              "      <th>1</th>\n",
              "      <td>1976</td>\n",
              "      <td>6</td>\n",
              "      <td>25.5</td>\n",
              "    </tr>\n",
              "    <tr>\n",
              "      <th>2</th>\n",
              "      <td>1976</td>\n",
              "      <td>7</td>\n",
              "      <td>26.6</td>\n",
              "    </tr>\n",
              "    <tr>\n",
              "      <th>3</th>\n",
              "      <td>1976</td>\n",
              "      <td>8</td>\n",
              "      <td>25.1</td>\n",
              "    </tr>\n",
              "    <tr>\n",
              "      <th>4</th>\n",
              "      <td>1983</td>\n",
              "      <td>7</td>\n",
              "      <td>27.6</td>\n",
              "    </tr>\n",
              "    <tr>\n",
              "      <th>5</th>\n",
              "      <td>1989</td>\n",
              "      <td>7</td>\n",
              "      <td>25.8</td>\n",
              "    </tr>\n",
              "    <tr>\n",
              "      <th>6</th>\n",
              "      <td>1990</td>\n",
              "      <td>8</td>\n",
              "      <td>26.0</td>\n",
              "    </tr>\n",
              "    <tr>\n",
              "      <th>7</th>\n",
              "      <td>1994</td>\n",
              "      <td>7</td>\n",
              "      <td>26.2</td>\n",
              "    </tr>\n",
              "    <tr>\n",
              "      <th>8</th>\n",
              "      <td>1995</td>\n",
              "      <td>7</td>\n",
              "      <td>26.3</td>\n",
              "    </tr>\n",
              "    <tr>\n",
              "      <th>9</th>\n",
              "      <td>1995</td>\n",
              "      <td>8</td>\n",
              "      <td>27.0</td>\n",
              "    </tr>\n",
              "    <tr>\n",
              "      <th>10</th>\n",
              "      <td>1997</td>\n",
              "      <td>8</td>\n",
              "      <td>25.8</td>\n",
              "    </tr>\n",
              "    <tr>\n",
              "      <th>11</th>\n",
              "      <td>2003</td>\n",
              "      <td>8</td>\n",
              "      <td>26.4</td>\n",
              "    </tr>\n",
              "    <tr>\n",
              "      <th>12</th>\n",
              "      <td>2006</td>\n",
              "      <td>7</td>\n",
              "      <td>28.2</td>\n",
              "    </tr>\n",
              "    <tr>\n",
              "      <th>13</th>\n",
              "      <td>2013</td>\n",
              "      <td>7</td>\n",
              "      <td>27.0</td>\n",
              "    </tr>\n",
              "    <tr>\n",
              "      <th>14</th>\n",
              "      <td>2014</td>\n",
              "      <td>7</td>\n",
              "      <td>25.8</td>\n",
              "    </tr>\n",
              "    <tr>\n",
              "      <th>15</th>\n",
              "      <td>2018</td>\n",
              "      <td>7</td>\n",
              "      <td>28.3</td>\n",
              "    </tr>\n",
              "  </tbody>\n",
              "</table>\n",
              "</div>"
            ],
            "text/plain": [
              "    Year  Month  Tmax\n",
              "0   1975      8  25.9\n",
              "1   1976      6  25.5\n",
              "2   1976      7  26.6\n",
              "3   1976      8  25.1\n",
              "4   1983      7  27.6\n",
              "5   1989      7  25.8\n",
              "6   1990      8  26.0\n",
              "7   1994      7  26.2\n",
              "8   1995      7  26.3\n",
              "9   1995      8  27.0\n",
              "10  1997      8  25.8\n",
              "11  2003      8  26.4\n",
              "12  2006      7  28.2\n",
              "13  2013      7  27.0\n",
              "14  2014      7  25.8\n",
              "15  2018      7  28.3"
            ]
          },
          "metadata": {
            "tags": []
          },
          "execution_count": 9
        }
      ]
    },
    {
      "cell_type": "markdown",
      "metadata": {
        "id": "h1uJkhnQZfAZ"
      },
      "source": [
        "that in order of the year\n",
        "what would be more interesting would be to have it in order of temperature\n",
        "we add the clause ORDER BY and give the column which should dictate the order. DESC means in descending order (omit that and you'll get the default, ascending order"
      ]
    },
    {
      "cell_type": "code",
      "metadata": {
        "id": "fScBInvurQJP",
        "colab": {
          "base_uri": "https://localhost:8080/",
          "height": 551
        },
        "outputId": "e1034a0a-3c56-4a5a-9598-62ca97d6e526"
      },
      "source": [
        "high = pd.read_sql('SELECT Year,Month,Tmax FROM weather WHERE Tmax > 25 ORDER BY Tmax DESC', conn)\n",
        "high"
      ],
      "execution_count": 10,
      "outputs": [
        {
          "output_type": "execute_result",
          "data": {
            "text/html": [
              "<div>\n",
              "<style scoped>\n",
              "    .dataframe tbody tr th:only-of-type {\n",
              "        vertical-align: middle;\n",
              "    }\n",
              "\n",
              "    .dataframe tbody tr th {\n",
              "        vertical-align: top;\n",
              "    }\n",
              "\n",
              "    .dataframe thead th {\n",
              "        text-align: right;\n",
              "    }\n",
              "</style>\n",
              "<table border=\"1\" class=\"dataframe\">\n",
              "  <thead>\n",
              "    <tr style=\"text-align: right;\">\n",
              "      <th></th>\n",
              "      <th>Year</th>\n",
              "      <th>Month</th>\n",
              "      <th>Tmax</th>\n",
              "    </tr>\n",
              "  </thead>\n",
              "  <tbody>\n",
              "    <tr>\n",
              "      <th>0</th>\n",
              "      <td>2018</td>\n",
              "      <td>7</td>\n",
              "      <td>28.3</td>\n",
              "    </tr>\n",
              "    <tr>\n",
              "      <th>1</th>\n",
              "      <td>2006</td>\n",
              "      <td>7</td>\n",
              "      <td>28.2</td>\n",
              "    </tr>\n",
              "    <tr>\n",
              "      <th>2</th>\n",
              "      <td>1983</td>\n",
              "      <td>7</td>\n",
              "      <td>27.6</td>\n",
              "    </tr>\n",
              "    <tr>\n",
              "      <th>3</th>\n",
              "      <td>1995</td>\n",
              "      <td>8</td>\n",
              "      <td>27.0</td>\n",
              "    </tr>\n",
              "    <tr>\n",
              "      <th>4</th>\n",
              "      <td>2013</td>\n",
              "      <td>7</td>\n",
              "      <td>27.0</td>\n",
              "    </tr>\n",
              "    <tr>\n",
              "      <th>5</th>\n",
              "      <td>1976</td>\n",
              "      <td>7</td>\n",
              "      <td>26.6</td>\n",
              "    </tr>\n",
              "    <tr>\n",
              "      <th>6</th>\n",
              "      <td>2003</td>\n",
              "      <td>8</td>\n",
              "      <td>26.4</td>\n",
              "    </tr>\n",
              "    <tr>\n",
              "      <th>7</th>\n",
              "      <td>1995</td>\n",
              "      <td>7</td>\n",
              "      <td>26.3</td>\n",
              "    </tr>\n",
              "    <tr>\n",
              "      <th>8</th>\n",
              "      <td>1994</td>\n",
              "      <td>7</td>\n",
              "      <td>26.2</td>\n",
              "    </tr>\n",
              "    <tr>\n",
              "      <th>9</th>\n",
              "      <td>1990</td>\n",
              "      <td>8</td>\n",
              "      <td>26.0</td>\n",
              "    </tr>\n",
              "    <tr>\n",
              "      <th>10</th>\n",
              "      <td>1975</td>\n",
              "      <td>8</td>\n",
              "      <td>25.9</td>\n",
              "    </tr>\n",
              "    <tr>\n",
              "      <th>11</th>\n",
              "      <td>1989</td>\n",
              "      <td>7</td>\n",
              "      <td>25.8</td>\n",
              "    </tr>\n",
              "    <tr>\n",
              "      <th>12</th>\n",
              "      <td>1997</td>\n",
              "      <td>8</td>\n",
              "      <td>25.8</td>\n",
              "    </tr>\n",
              "    <tr>\n",
              "      <th>13</th>\n",
              "      <td>2014</td>\n",
              "      <td>7</td>\n",
              "      <td>25.8</td>\n",
              "    </tr>\n",
              "    <tr>\n",
              "      <th>14</th>\n",
              "      <td>1976</td>\n",
              "      <td>6</td>\n",
              "      <td>25.5</td>\n",
              "    </tr>\n",
              "    <tr>\n",
              "      <th>15</th>\n",
              "      <td>1976</td>\n",
              "      <td>8</td>\n",
              "      <td>25.1</td>\n",
              "    </tr>\n",
              "  </tbody>\n",
              "</table>\n",
              "</div>"
            ],
            "text/plain": [
              "    Year  Month  Tmax\n",
              "0   2018      7  28.3\n",
              "1   2006      7  28.2\n",
              "2   1983      7  27.6\n",
              "3   1995      8  27.0\n",
              "4   2013      7  27.0\n",
              "5   1976      7  26.6\n",
              "6   2003      8  26.4\n",
              "7   1995      7  26.3\n",
              "8   1994      7  26.2\n",
              "9   1990      8  26.0\n",
              "10  1975      8  25.9\n",
              "11  1989      7  25.8\n",
              "12  1997      8  25.8\n",
              "13  2014      7  25.8\n",
              "14  1976      6  25.5\n",
              "15  1976      8  25.1"
            ]
          },
          "metadata": {
            "tags": []
          },
          "execution_count": 10
        }
      ]
    },
    {
      "cell_type": "markdown",
      "metadata": {
        "id": "uIBLc8z4aupY"
      },
      "source": [
        "interesting, the hottest months are in the summer! who'd have thought it. but \n",
        "\n",
        "---\n",
        "\n",
        "to be sure let's plot a histogram"
      ]
    },
    {
      "cell_type": "markdown",
      "metadata": {
        "id": "aM-b9RpxbDWW"
      },
      "source": [
        ""
      ]
    },
    {
      "cell_type": "code",
      "metadata": {
        "id": "RE5Wn1x_h27B",
        "colab": {
          "base_uri": "https://localhost:8080/",
          "height": 265
        },
        "outputId": "63209ac6-94b1-40af-ff3b-cba55fcd14da"
      },
      "source": [
        "high.plot.hist(y='Month', xticks=high['Month']);"
      ],
      "execution_count": 11,
      "outputs": [
        {
          "output_type": "display_data",
          "data": {
            "image/png": "[encoded data removed]",
            "text/plain": [
              "<Figure size 432x288 with 1 Axes>"
            ]
          },
          "metadata": {
            "tags": [],
            "needs_background": "light"
          }
        }
      ]
    },
    {
      "cell_type": "markdown",
      "metadata": {
        "id": "IOVb4jWibGK4"
      },
      "source": [
        "Yes, the hottest month tends to be July\n",
        "\n",
        "So, why don't we take a look at the months of July throughout the decades and see how the temperature chnges"
      ]
    },
    {
      "cell_type": "code",
      "metadata": {
        "id": "hEW5KH7pbui3",
        "colab": {
          "base_uri": "https://localhost:8080/",
          "height": 424
        },
        "outputId": "815e9ac3-0b12-44e0-d91c-d7997819402a"
      },
      "source": [
        "july = pd.read_sql('SELECT Year,Month,Tmax FROM weather WHERE month == 6', conn)\n",
        "july"
      ],
      "execution_count": 12,
      "outputs": [
        {
          "output_type": "execute_result",
          "data": {
            "text/html": [
              "<div>\n",
              "<style scoped>\n",
              "    .dataframe tbody tr th:only-of-type {\n",
              "        vertical-align: middle;\n",
              "    }\n",
              "\n",
              "    .dataframe tbody tr th {\n",
              "        vertical-align: top;\n",
              "    }\n",
              "\n",
              "    .dataframe thead th {\n",
              "        text-align: right;\n",
              "    }\n",
              "</style>\n",
              "<table border=\"1\" class=\"dataframe\">\n",
              "  <thead>\n",
              "    <tr style=\"text-align: right;\">\n",
              "      <th></th>\n",
              "      <th>Year</th>\n",
              "      <th>Month</th>\n",
              "      <th>Tmax</th>\n",
              "    </tr>\n",
              "  </thead>\n",
              "  <tbody>\n",
              "    <tr>\n",
              "      <th>0</th>\n",
              "      <td>1957</td>\n",
              "      <td>6</td>\n",
              "      <td>23.6</td>\n",
              "    </tr>\n",
              "    <tr>\n",
              "      <th>1</th>\n",
              "      <td>1958</td>\n",
              "      <td>6</td>\n",
              "      <td>19.4</td>\n",
              "    </tr>\n",
              "    <tr>\n",
              "      <th>2</th>\n",
              "      <td>1959</td>\n",
              "      <td>6</td>\n",
              "      <td>22.1</td>\n",
              "    </tr>\n",
              "    <tr>\n",
              "      <th>3</th>\n",
              "      <td>1960</td>\n",
              "      <td>6</td>\n",
              "      <td>22.1</td>\n",
              "    </tr>\n",
              "    <tr>\n",
              "      <th>4</th>\n",
              "      <td>1961</td>\n",
              "      <td>6</td>\n",
              "      <td>21.7</td>\n",
              "    </tr>\n",
              "    <tr>\n",
              "      <th>...</th>\n",
              "      <td>...</td>\n",
              "      <td>...</td>\n",
              "      <td>...</td>\n",
              "    </tr>\n",
              "    <tr>\n",
              "      <th>57</th>\n",
              "      <td>2014</td>\n",
              "      <td>6</td>\n",
              "      <td>22.1</td>\n",
              "    </tr>\n",
              "    <tr>\n",
              "      <th>58</th>\n",
              "      <td>2015</td>\n",
              "      <td>6</td>\n",
              "      <td>22.2</td>\n",
              "    </tr>\n",
              "    <tr>\n",
              "      <th>59</th>\n",
              "      <td>2016</td>\n",
              "      <td>6</td>\n",
              "      <td>20.7</td>\n",
              "    </tr>\n",
              "    <tr>\n",
              "      <th>60</th>\n",
              "      <td>2017</td>\n",
              "      <td>6</td>\n",
              "      <td>24.0</td>\n",
              "    </tr>\n",
              "    <tr>\n",
              "      <th>61</th>\n",
              "      <td>2018</td>\n",
              "      <td>6</td>\n",
              "      <td>24.2</td>\n",
              "    </tr>\n",
              "  </tbody>\n",
              "</table>\n",
              "<p>62 rows × 3 columns</p>\n",
              "</div>"
            ],
            "text/plain": [
              "    Year  Month  Tmax\n",
              "0   1957      6  23.6\n",
              "1   1958      6  19.4\n",
              "2   1959      6  22.1\n",
              "3   1960      6  22.1\n",
              "4   1961      6  21.7\n",
              "..   ...    ...   ...\n",
              "57  2014      6  22.1\n",
              "58  2015      6  22.2\n",
              "59  2016      6  20.7\n",
              "60  2017      6  24.0\n",
              "61  2018      6  24.2\n",
              "\n",
              "[62 rows x 3 columns]"
            ]
          },
          "metadata": {
            "tags": []
          },
          "execution_count": 12
        }
      ]
    },
    {
      "cell_type": "code",
      "metadata": {
        "id": "7AU20EKucJMx",
        "colab": {
          "base_uri": "https://localhost:8080/",
          "height": 320
        },
        "outputId": "1adcb51c-acc6-4ab3-89b8-9296ac6cae50"
      },
      "source": [
        "july.plot.bar(x='Year', y='Tmax', figsize=(20,5));"
      ],
      "execution_count": 13,
      "outputs": [
        {
          "output_type": "display_data",
          "data": {
            "image/png": "[encoded data removed]",
            "text/plain": [
              "<Figure size 1440x360 with 1 Axes>"
            ]
          },
          "metadata": {
            "tags": [],
            "needs_background": "light"
          }
        }
      ]
    },
    {
      "cell_type": "code",
      "metadata": {
        "id": "9BVWC2ScaTva",
        "colab": {
          "base_uri": "https://localhost:8080/",
          "height": 424
        },
        "outputId": "5b798c78-488a-41f5-9991-29c6ff10fc70"
      },
      "source": [
        "max = pd.read_sql('SELECT Year,Month,max(Tmax) FROM weather GROUP BY Year', conn)\n",
        "max"
      ],
      "execution_count": 14,
      "outputs": [
        {
          "output_type": "execute_result",
          "data": {
            "text/html": [
              "<div>\n",
              "<style scoped>\n",
              "    .dataframe tbody tr th:only-of-type {\n",
              "        vertical-align: middle;\n",
              "    }\n",
              "\n",
              "    .dataframe tbody tr th {\n",
              "        vertical-align: top;\n",
              "    }\n",
              "\n",
              "    .dataframe thead th {\n",
              "        text-align: right;\n",
              "    }\n",
              "</style>\n",
              "<table border=\"1\" class=\"dataframe\">\n",
              "  <thead>\n",
              "    <tr style=\"text-align: right;\">\n",
              "      <th></th>\n",
              "      <th>Year</th>\n",
              "      <th>Month</th>\n",
              "      <th>max(Tmax)</th>\n",
              "    </tr>\n",
              "  </thead>\n",
              "  <tbody>\n",
              "    <tr>\n",
              "      <th>0</th>\n",
              "      <td>1957</td>\n",
              "      <td>6</td>\n",
              "      <td>23.6</td>\n",
              "    </tr>\n",
              "    <tr>\n",
              "      <th>1</th>\n",
              "      <td>1958</td>\n",
              "      <td>7</td>\n",
              "      <td>21.7</td>\n",
              "    </tr>\n",
              "    <tr>\n",
              "      <th>2</th>\n",
              "      <td>1959</td>\n",
              "      <td>7</td>\n",
              "      <td>24.7</td>\n",
              "    </tr>\n",
              "    <tr>\n",
              "      <th>3</th>\n",
              "      <td>1960</td>\n",
              "      <td>6</td>\n",
              "      <td>22.1</td>\n",
              "    </tr>\n",
              "    <tr>\n",
              "      <th>4</th>\n",
              "      <td>1961</td>\n",
              "      <td>7</td>\n",
              "      <td>22.1</td>\n",
              "    </tr>\n",
              "    <tr>\n",
              "      <th>...</th>\n",
              "      <td>...</td>\n",
              "      <td>...</td>\n",
              "      <td>...</td>\n",
              "    </tr>\n",
              "    <tr>\n",
              "      <th>58</th>\n",
              "      <td>2015</td>\n",
              "      <td>7</td>\n",
              "      <td>23.7</td>\n",
              "    </tr>\n",
              "    <tr>\n",
              "      <th>59</th>\n",
              "      <td>2016</td>\n",
              "      <td>8</td>\n",
              "      <td>24.7</td>\n",
              "    </tr>\n",
              "    <tr>\n",
              "      <th>60</th>\n",
              "      <td>2017</td>\n",
              "      <td>6</td>\n",
              "      <td>24.0</td>\n",
              "    </tr>\n",
              "    <tr>\n",
              "      <th>61</th>\n",
              "      <td>2018</td>\n",
              "      <td>7</td>\n",
              "      <td>28.3</td>\n",
              "    </tr>\n",
              "    <tr>\n",
              "      <th>62</th>\n",
              "      <td>2019</td>\n",
              "      <td>4</td>\n",
              "      <td>15.8</td>\n",
              "    </tr>\n",
              "  </tbody>\n",
              "</table>\n",
              "<p>63 rows × 3 columns</p>\n",
              "</div>"
            ],
            "text/plain": [
              "    Year  Month  max(Tmax)\n",
              "0   1957      6       23.6\n",
              "1   1958      7       21.7\n",
              "2   1959      7       24.7\n",
              "3   1960      6       22.1\n",
              "4   1961      7       22.1\n",
              "..   ...    ...        ...\n",
              "58  2015      7       23.7\n",
              "59  2016      8       24.7\n",
              "60  2017      6       24.0\n",
              "61  2018      7       28.3\n",
              "62  2019      4       15.8\n",
              "\n",
              "[63 rows x 3 columns]"
            ]
          },
          "metadata": {
            "tags": []
          },
          "execution_count": 14
        }
      ]
    },
    {
      "cell_type": "code",
      "metadata": {
        "id": "onJFb5cObFpt",
        "colab": {
          "base_uri": "https://localhost:8080/",
          "height": 298
        },
        "outputId": "afc25242-cbb8-4522-ae91-832fdb3d08e5"
      },
      "source": [
        "max.plot(x = 'Year', y='max(Tmax)')"
      ],
      "execution_count": 15,
      "outputs": [
        {
          "output_type": "execute_result",
          "data": {
            "text/plain": [
              "<matplotlib.axes._subplots.AxesSubplot at 0x7fa598cba490>"
            ]
          },
          "metadata": {
            "tags": []
          },
          "execution_count": 15
        },
        {
          "output_type": "display_data",
          "data": {
            "image/png": "[encoded data removed]",
            "text/plain": [
              "<Figure size 432x288 with 1 Axes>"
            ]
          },
          "metadata": {
            "tags": [],
            "needs_background": "light"
          }
        }
      ]
    },
    {
      "cell_type": "code",
      "metadata": {
        "id": "KEnPQSombo_J",
        "colab": {
          "base_uri": "https://localhost:8080/",
          "height": 560
        },
        "outputId": "4843f827-eb63-4fdf-f976-87c332765959"
      },
      "source": [
        "min = pd.read_sql('SELECT Year,Month,min(Tmin) FROM weather GROUP BY Year', conn)\n",
        "print(min)\n",
        "min.plot(x='Year', y=('min(Tmin)'))"
      ],
      "execution_count": 16,
      "outputs": [
        {
          "output_type": "stream",
          "text": [
            "    Year  Month  min(Tmin)\n",
            "0   1957     12        1.0\n",
            "1   1958      1        0.9\n",
            "2   1959      1       -1.1\n",
            "3   1960      2        1.6\n",
            "4   1961     12        0.2\n",
            "..   ...    ...        ...\n",
            "58  2015      1        1.6\n",
            "59  2016      2        2.9\n",
            "60  2017      1        0.7\n",
            "61  2018      2        0.6\n",
            "62  2019      1        2.0\n",
            "\n",
            "[63 rows x 3 columns]\n"
          ],
          "name": "stdout"
        },
        {
          "output_type": "execute_result",
          "data": {
            "text/plain": [
              "<matplotlib.axes._subplots.AxesSubplot at 0x7fa598c343d0>"
            ]
          },
          "metadata": {
            "tags": []
          },
          "execution_count": 16
        },
        {
          "output_type": "display_data",
          "data": {
            "image/png": "[encoded data removed]",
            "text/plain": [
              "<Figure size 432x288 with 1 Axes>"
            ]
          },
          "metadata": {
            "tags": [],
            "needs_background": "light"
          }
        }
      ]
    },
    {
      "cell_type": "code",
      "metadata": {
        "id": "C0v8L1OAJ1bG"
      },
      "source": [
        ""
      ],
      "execution_count": 16,
      "outputs": []
    },
    {
      "cell_type": "code",
      "metadata": {
        "id": "kuSj96-gJ2-X"
      },
      "source": [
        ""
      ],
      "execution_count": 16,
      "outputs": []
    },
    {
      "cell_type": "code",
      "metadata": {
        "id": "2OtsfnPDb7te",
        "colab": {
          "base_uri": "https://localhost:8080/",
          "height": 284
        },
        "outputId": "57d65513-8057-4fd5-921f-d859235ff686"
      },
      "source": [
        "r = max['max(Tmax)'] - min['min(Tmin)']\n",
        "r.plot()"
      ],
      "execution_count": 17,
      "outputs": [
        {
          "output_type": "execute_result",
          "data": {
            "text/plain": [
              "<matplotlib.axes._subplots.AxesSubplot at 0x7fa598ba7650>"
            ]
          },
          "metadata": {
            "tags": []
          },
          "execution_count": 17
        },
        {
          "output_type": "display_data",
          "data": {
            "image/png": "[encoded data removed]",
            "text/plain": [
              "<Figure size 432x288 with 1 Axes>"
            ]
          },
          "metadata": {
            "tags": [],
            "needs_background": "light"
          }
        }
      ]
    },
    {
      "cell_type": "code",
      "metadata": {
        "id": "sWxLFiuhJ4Rb",
        "colab": {
          "base_uri": "https://localhost:8080/",
          "height": 424
        },
        "outputId": "894922fb-7ab2-4a2b-de68-3d3a93b89d14"
      },
      "source": [
        "m = pd.read_sql('SELECT Year,sum(Sun),sum(Rain),max(Tmax),min(Tmin) FROM weather GROUP BY Year', conn)\n",
        "m"
      ],
      "execution_count": 18,
      "outputs": [
        {
          "output_type": "execute_result",
          "data": {
            "text/html": [
              "<div>\n",
              "<style scoped>\n",
              "    .dataframe tbody tr th:only-of-type {\n",
              "        vertical-align: middle;\n",
              "    }\n",
              "\n",
              "    .dataframe tbody tr th {\n",
              "        vertical-align: top;\n",
              "    }\n",
              "\n",
              "    .dataframe thead th {\n",
              "        text-align: right;\n",
              "    }\n",
              "</style>\n",
              "<table border=\"1\" class=\"dataframe\">\n",
              "  <thead>\n",
              "    <tr style=\"text-align: right;\">\n",
              "      <th></th>\n",
              "      <th>Year</th>\n",
              "      <th>sum(Sun)</th>\n",
              "      <th>sum(Rain)</th>\n",
              "      <th>max(Tmax)</th>\n",
              "      <th>min(Tmin)</th>\n",
              "    </tr>\n",
              "  </thead>\n",
              "  <tbody>\n",
              "    <tr>\n",
              "      <th>0</th>\n",
              "      <td>1957</td>\n",
              "      <td>1453.1</td>\n",
              "      <td>557.6</td>\n",
              "      <td>23.6</td>\n",
              "      <td>1.0</td>\n",
              "    </tr>\n",
              "    <tr>\n",
              "      <th>1</th>\n",
              "      <td>1958</td>\n",
              "      <td>1278.6</td>\n",
              "      <td>739.7</td>\n",
              "      <td>21.7</td>\n",
              "      <td>0.9</td>\n",
              "    </tr>\n",
              "    <tr>\n",
              "      <th>2</th>\n",
              "      <td>1959</td>\n",
              "      <td>1786.4</td>\n",
              "      <td>487.3</td>\n",
              "      <td>24.7</td>\n",
              "      <td>-1.1</td>\n",
              "    </tr>\n",
              "    <tr>\n",
              "      <th>3</th>\n",
              "      <td>1960</td>\n",
              "      <td>1374.0</td>\n",
              "      <td>735.4</td>\n",
              "      <td>22.1</td>\n",
              "      <td>1.6</td>\n",
              "    </tr>\n",
              "    <tr>\n",
              "      <th>4</th>\n",
              "      <td>1961</td>\n",
              "      <td>1471.7</td>\n",
              "      <td>558.8</td>\n",
              "      <td>22.1</td>\n",
              "      <td>0.2</td>\n",
              "    </tr>\n",
              "    <tr>\n",
              "      <th>...</th>\n",
              "      <td>...</td>\n",
              "      <td>...</td>\n",
              "      <td>...</td>\n",
              "      <td>...</td>\n",
              "      <td>...</td>\n",
              "    </tr>\n",
              "    <tr>\n",
              "      <th>58</th>\n",
              "      <td>2015</td>\n",
              "      <td>1507.7</td>\n",
              "      <td>562.0</td>\n",
              "      <td>23.7</td>\n",
              "      <td>1.6</td>\n",
              "    </tr>\n",
              "    <tr>\n",
              "      <th>59</th>\n",
              "      <td>2016</td>\n",
              "      <td>1473.7</td>\n",
              "      <td>590.6</td>\n",
              "      <td>24.7</td>\n",
              "      <td>2.9</td>\n",
              "    </tr>\n",
              "    <tr>\n",
              "      <th>60</th>\n",
              "      <td>2017</td>\n",
              "      <td>1452.0</td>\n",
              "      <td>572.2</td>\n",
              "      <td>24.0</td>\n",
              "      <td>0.7</td>\n",
              "    </tr>\n",
              "    <tr>\n",
              "      <th>61</th>\n",
              "      <td>2018</td>\n",
              "      <td>1704.8</td>\n",
              "      <td>580.0</td>\n",
              "      <td>28.3</td>\n",
              "      <td>0.6</td>\n",
              "    </tr>\n",
              "    <tr>\n",
              "      <th>62</th>\n",
              "      <td>2019</td>\n",
              "      <td>465.7</td>\n",
              "      <td>129.8</td>\n",
              "      <td>15.8</td>\n",
              "      <td>2.0</td>\n",
              "    </tr>\n",
              "  </tbody>\n",
              "</table>\n",
              "<p>63 rows × 5 columns</p>\n",
              "</div>"
            ],
            "text/plain": [
              "    Year  sum(Sun)  sum(Rain)  max(Tmax)  min(Tmin)\n",
              "0   1957    1453.1      557.6       23.6        1.0\n",
              "1   1958    1278.6      739.7       21.7        0.9\n",
              "2   1959    1786.4      487.3       24.7       -1.1\n",
              "3   1960    1374.0      735.4       22.1        1.6\n",
              "4   1961    1471.7      558.8       22.1        0.2\n",
              "..   ...       ...        ...        ...        ...\n",
              "58  2015    1507.7      562.0       23.7        1.6\n",
              "59  2016    1473.7      590.6       24.7        2.9\n",
              "60  2017    1452.0      572.2       24.0        0.7\n",
              "61  2018    1704.8      580.0       28.3        0.6\n",
              "62  2019     465.7      129.8       15.8        2.0\n",
              "\n",
              "[63 rows x 5 columns]"
            ]
          },
          "metadata": {
            "tags": []
          },
          "execution_count": 18
        }
      ]
    },
    {
      "cell_type": "code",
      "metadata": {
        "id": "ldor7LN8KeQP",
        "colab": {
          "base_uri": "https://localhost:8080/",
          "height": 302
        },
        "outputId": "15995a24-f60a-4862-91c3-fc76fc506522"
      },
      "source": [
        "m.plot(x='Year', y='sum(Rain)')"
      ],
      "execution_count": 19,
      "outputs": [
        {
          "output_type": "execute_result",
          "data": {
            "text/plain": [
              "<matplotlib.axes._subplots.AxesSubplot at 0x7fa598905090>"
            ]
          },
          "metadata": {
            "tags": []
          },
          "execution_count": 19
        },
        {
          "output_type": "display_data",
          "data": {
            "image/png": "[encoded data removed]",
            "text/plain": [
              "<Figure size 432x288 with 1 Axes>"
            ]
          },
          "metadata": {
            "tags": [],
            "needs_background": "light"
          }
        }
      ]
    },
    {
      "cell_type": "code",
      "metadata": {
        "id": "VuI0GVCeKy7w",
        "colab": {
          "base_uri": "https://localhost:8080/",
          "height": 298
        },
        "outputId": "6db68157-92d0-47db-d6e4-a42cdaba70a8"
      },
      "source": [
        "m['range']=m['max(Tmax)']-m['min(Tmin)']\n",
        "m.plot(x='Year',y='range')"
      ],
      "execution_count": 20,
      "outputs": [
        {
          "output_type": "execute_result",
          "data": {
            "text/plain": [
              "<matplotlib.axes._subplots.AxesSubplot at 0x7fa598e812d0>"
            ]
          },
          "metadata": {
            "tags": []
          },
          "execution_count": 20
        },
        {
          "output_type": "display_data",
          "data": {
            "image/png": "[encoded data removed]",
            "text/plain": [
              "<Figure size 432x288 with 1 Axes>"
            ]
          },
          "metadata": {
            "tags": [],
            "needs_background": "light"
          }
        }
      ]
    }
  ]
}