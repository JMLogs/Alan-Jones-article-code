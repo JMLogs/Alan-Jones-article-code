{
 "cells": [
  {
   "cell_type": "markdown",
   "metadata": {
    "rise": {
     "theme": "sky",
     "transition": "zoom"
    }
   },
   "source": [
    "\n",
    "# Exploring London Weather Data"
   ]
  },
  {
   "cell_type": "code",
   "execution_count": 1,
   "metadata": {
    "slideshow": {
     "slide_type": "fragment"
    }
   },
   "outputs": [],
   "source": [
    "import pandas as pd\n",
    "import ipywidgets as widgets"
   ]
  },
  {
   "cell_type": "markdown",
   "metadata": {},
   "source": [
    "## get data"
   ]
  },
  {
   "cell_type": "code",
   "execution_count": 2,
   "metadata": {},
   "outputs": [
    {
     "data": {
      "text/html": [
       "<div>\n",
       "<style scoped>\n",
       "    .dataframe tbody tr th:only-of-type {\n",
       "        vertical-align: middle;\n",
       "    }\n",
       "\n",
       "    .dataframe tbody tr th {\n",
       "        vertical-align: top;\n",
       "    }\n",
       "\n",
       "    .dataframe thead th {\n",
       "        text-align: right;\n",
       "    }\n",
       "</style>\n",
       "<table border=\"1\" class=\"dataframe\">\n",
       "  <thead>\n",
       "    <tr style=\"text-align: right;\">\n",
       "      <th></th>\n",
       "      <th>Year</th>\n",
       "      <th>Month</th>\n",
       "      <th>Tmax</th>\n",
       "      <th>Tmin</th>\n",
       "      <th>AF</th>\n",
       "      <th>Rain</th>\n",
       "      <th>Sun</th>\n",
       "    </tr>\n",
       "  </thead>\n",
       "  <tbody>\n",
       "    <tr>\n",
       "      <th>0</th>\n",
       "      <td>1948</td>\n",
       "      <td>1</td>\n",
       "      <td>8.9</td>\n",
       "      <td>3.3</td>\n",
       "      <td>NaN</td>\n",
       "      <td>85.0</td>\n",
       "      <td>NaN</td>\n",
       "    </tr>\n",
       "    <tr>\n",
       "      <th>1</th>\n",
       "      <td>1948</td>\n",
       "      <td>2</td>\n",
       "      <td>7.9</td>\n",
       "      <td>2.2</td>\n",
       "      <td>NaN</td>\n",
       "      <td>26.0</td>\n",
       "      <td>NaN</td>\n",
       "    </tr>\n",
       "    <tr>\n",
       "      <th>2</th>\n",
       "      <td>1948</td>\n",
       "      <td>3</td>\n",
       "      <td>14.2</td>\n",
       "      <td>3.8</td>\n",
       "      <td>NaN</td>\n",
       "      <td>14.0</td>\n",
       "      <td>NaN</td>\n",
       "    </tr>\n",
       "    <tr>\n",
       "      <th>3</th>\n",
       "      <td>1948</td>\n",
       "      <td>4</td>\n",
       "      <td>15.4</td>\n",
       "      <td>5.1</td>\n",
       "      <td>NaN</td>\n",
       "      <td>35.0</td>\n",
       "      <td>NaN</td>\n",
       "    </tr>\n",
       "    <tr>\n",
       "      <th>4</th>\n",
       "      <td>1948</td>\n",
       "      <td>5</td>\n",
       "      <td>18.1</td>\n",
       "      <td>6.9</td>\n",
       "      <td>NaN</td>\n",
       "      <td>57.0</td>\n",
       "      <td>NaN</td>\n",
       "    </tr>\n",
       "    <tr>\n",
       "      <th>...</th>\n",
       "      <td>...</td>\n",
       "      <td>...</td>\n",
       "      <td>...</td>\n",
       "      <td>...</td>\n",
       "      <td>...</td>\n",
       "      <td>...</td>\n",
       "      <td>...</td>\n",
       "    </tr>\n",
       "    <tr>\n",
       "      <th>854</th>\n",
       "      <td>2019</td>\n",
       "      <td>3</td>\n",
       "      <td>13.1</td>\n",
       "      <td>5.8</td>\n",
       "      <td>0.0</td>\n",
       "      <td>49.6</td>\n",
       "      <td>119.0</td>\n",
       "    </tr>\n",
       "    <tr>\n",
       "      <th>855</th>\n",
       "      <td>2019</td>\n",
       "      <td>4</td>\n",
       "      <td>15.8</td>\n",
       "      <td>5.7</td>\n",
       "      <td>1.0</td>\n",
       "      <td>12.8</td>\n",
       "      <td>170.1</td>\n",
       "    </tr>\n",
       "    <tr>\n",
       "      <th>856</th>\n",
       "      <td>2019</td>\n",
       "      <td>5</td>\n",
       "      <td>18.6</td>\n",
       "      <td>8.4</td>\n",
       "      <td>0.0</td>\n",
       "      <td>36.0</td>\n",
       "      <td>176.3</td>\n",
       "    </tr>\n",
       "    <tr>\n",
       "      <th>857</th>\n",
       "      <td>2019</td>\n",
       "      <td>6</td>\n",
       "      <td>21.8</td>\n",
       "      <td>11.9</td>\n",
       "      <td>0.0</td>\n",
       "      <td>81.8</td>\n",
       "      <td>170.1</td>\n",
       "    </tr>\n",
       "    <tr>\n",
       "      <th>858</th>\n",
       "      <td>2019</td>\n",
       "      <td>7</td>\n",
       "      <td>25.5</td>\n",
       "      <td>14.9</td>\n",
       "      <td>0.0</td>\n",
       "      <td>50.8</td>\n",
       "      <td>194.5</td>\n",
       "    </tr>\n",
       "  </tbody>\n",
       "</table>\n",
       "<p>859 rows × 7 columns</p>\n",
       "</div>"
      ],
      "text/plain": [
       "     Year  Month  Tmax  Tmin   AF  Rain    Sun\n",
       "0    1948      1   8.9   3.3  NaN  85.0    NaN\n",
       "1    1948      2   7.9   2.2  NaN  26.0    NaN\n",
       "2    1948      3  14.2   3.8  NaN  14.0    NaN\n",
       "3    1948      4  15.4   5.1  NaN  35.0    NaN\n",
       "4    1948      5  18.1   6.9  NaN  57.0    NaN\n",
       "..    ...    ...   ...   ...  ...   ...    ...\n",
       "854  2019      3  13.1   5.8  0.0  49.6  119.0\n",
       "855  2019      4  15.8   5.7  1.0  12.8  170.1\n",
       "856  2019      5  18.6   8.4  0.0  36.0  176.3\n",
       "857  2019      6  21.8  11.9  0.0  81.8  170.1\n",
       "858  2019      7  25.5  14.9  0.0  50.8  194.5\n",
       "\n",
       "[859 rows x 7 columns]"
      ]
     },
     "execution_count": 2,
     "metadata": {},
     "output_type": "execute_result"
    }
   ],
   "source": [
    "weather=pd.read_csv('heathrowDataFiltered.csv')\n",
    "weather"
   ]
  },
  {
   "cell_type": "markdown",
   "metadata": {},
   "source": [
    "## define widget functions"
   ]
  },
  {
   "cell_type": "code",
   "execution_count": 3,
   "metadata": {},
   "outputs": [],
   "source": [
    "def fmax(year): \n",
    "    yticks = [0,5,10,15,20,25,30]\n",
    "    label=\"Degrees Celsius\"\n",
    "    f(year, 'Tmax','line', yticks, label)\n",
    "    \n",
    "def fmin(year): \n",
    "    yticks = [0,5,10,15,20,25,30]\n",
    "    label=\"Degrees Celsius\"\n",
    "    f(year, 'Tmin','line',yticks, label)\n",
    "    \n",
    "def frain(year):\n",
    "    yticks = [0,10,20,30,40,50,60,70,80,90,100]\n",
    "    label=\"Millimetres\"\n",
    "    f(year, 'Rain','bar',yticks, label)\n",
    "    \n",
    "def fsun(year): \n",
    "    yticks = [0,50,100,150,200,250,300]\n",
    "    label=\"Hours\"\n",
    "    f(year, 'Sun','bar', yticks, label)\n",
    "\n",
    "def f(year,y, kind, yticks,label):\n",
    "    \n",
    "    xticks= [1,2,3,4,5,6,7,8,9,10,11,12]\n",
    "    xlabels = ['Jan','Feb','Mar','Apr','May',\n",
    "               'Jun','Jul','Aug','Sep','Oct','Nov','Dec']\n",
    "    \n",
    "    ax = weather[weather['Year']==year].plot(kind = kind,\n",
    "                                             y = y, \n",
    "                                             x ='Month', \n",
    "                                             yticks = yticks,\n",
    "                                             xticks = xticks,\n",
    "                                             legend = False, \n",
    "                                             title = y)\n",
    "    ax.set_xticklabels(xlabels)\n",
    "    ax.set_ylabel(label)\n",
    "\n",
    "year = widgets.IntSlider(description='Select year', \n",
    "                         min = weather.Year.min(), \n",
    "                         max = weather.Year.max(), \n",
    "                         value = (weather.Year.max()+weather.Year.min())/2,\n",
    "                         layout=widgets.Layout(width='500px'))\n",
    "\n",
    "chartmax = widgets.interactive_output(fmax, {'year':year})\n",
    "chartmin = widgets.interactive_output(fmin, {'year':year})\n",
    "chartrain = widgets.interactive_output(frain, {'year':year})\n",
    "chartsun = widgets.interactive_output(fsun, {'year':year})\n",
    "\n",
    "header = widgets.HTML(value=\"<h1>Monthly weather data</h1>Adjust the slider below the chart to select year\")\n"
   ]
  },
  {
   "cell_type": "markdown",
   "metadata": {},
   "source": [
    "## layout"
   ]
  },
  {
   "cell_type": "code",
   "execution_count": 6,
   "metadata": {},
   "outputs": [
    {
     "data": {
      "application/vnd.jupyter.widget-view+json": {
       "model_id": "17f54228ac6a42b88e909e9bff1a5fb4",
       "version_major": 2,
       "version_minor": 0
      },
      "text/plain": [
       "GridspecLayout(children=(HTML(value='<h1>Monthly weather data</h1>Adjust the slider below the chart to select …"
      ]
     },
     "metadata": {},
     "output_type": "display_data"
    }
   ],
   "source": [
    "grid = widgets.GridspecLayout(4, 2, height='500px')\n",
    "\n",
    "grid[0,:2]=header\n",
    "grid[1,0]=chartmin\n",
    "grid[1,1]=chartmax\n",
    "grid[2,0]=chartrain\n",
    "grid[2,1]=chartsun\n",
    "grid[3,0:2]=year\n",
    "grid\n"
   ]
  }
 ],
 "metadata": {
  "kernelspec": {
   "display_name": "Python 3 (ipykernel)",
   "language": "python",
   "name": "python3"
  },
  "language_info": {
   "codemirror_mode": {
    "name": "ipython",
    "version": 3
   },
   "file_extension": ".py",
   "mimetype": "text/x-python",
   "name": "python",
   "nbconvert_exporter": "python",
   "pygments_lexer": "ipython3",
   "version": "3.9.8"
  }
 },
 "nbformat": 4,
 "nbformat_minor": 4
}
