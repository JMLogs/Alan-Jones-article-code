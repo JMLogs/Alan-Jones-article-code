{
 "cells": [
  {
   "cell_type": "markdown",
   "metadata": {
    "rise": {
     "theme": "sky",
     "transition": "zoom"
    }
   },
   "source": [
    "\n",
    "# Exploring London Weather Data with Voilà"
   ]
  },
  {
   "cell_type": "code",
   "execution_count": 9,
   "metadata": {},
   "outputs": [
    {
     "data": {
      "application/vnd.jupyter.widget-view+json": {
       "model_id": "c16b054502134928bbd8ddeefd141b72",
       "version_major": 2,
       "version_minor": 0
      },
      "text/plain": [
       "GridspecLayout(children=(HTML(value='<h1>Monthly weather data</h1>Adjust the slider below the chart to select …"
      ]
     },
     "metadata": {},
     "output_type": "display_data"
    }
   ],
   "source": [
    "import pandas as pd\n",
    "import ipywidgets as widgets\n",
    "\n",
    "weather=pd.read_csv('heathrowDataFiltered.csv')\n",
    "\n",
    "def fmax(year): \n",
    "    yticks = [0,5,10,15,20,25,30]\n",
    "    label=\"Degrees Celsius\"\n",
    "    f(year, 'Tmax','line', yticks, label)\n",
    "    \n",
    "def fmin(year): \n",
    "    yticks = [0,5,10,15,20,25,30]\n",
    "    label=\"Degrees Celsius\"\n",
    "    f(year, 'Tmin','line',yticks, label)\n",
    "    \n",
    "def frain(year):\n",
    "    yticks = [0,10,20,30,40,50,60,70,80,90,100]\n",
    "    label=\"Millimetres\"\n",
    "    f(year, 'Rain','bar',yticks, label)\n",
    "    \n",
    "def fsun(year): \n",
    "    yticks = [0,50,100,150,200,250,300]\n",
    "    label=\"Hours\"\n",
    "    f(year, 'Sun','bar', yticks, label)\n",
    "\n",
    "def f(year,y, kind, yticks,label):\n",
    "    xticks= [1,2,3,4,5,6,7,8,9,10,11,12]\n",
    "    xlabels = ['Jan','Feb','Mar','Apr','May',\n",
    "               'Jun','Jul','Aug','Sep','Oct','Nov','Dec']\n",
    "    \n",
    "    ax = weather[weather['Year']==year].plot(kind = kind, y = y, \n",
    "                                             x ='Month', yticks = yticks,\n",
    "                                             xticks = xticks, legend = False, \n",
    "                                             title = y)\n",
    "    ax.set_xticklabels(xlabels)\n",
    "    ax.set_ylabel(label)\n",
    "\n",
    "year = widgets.IntSlider(description='Select year', \n",
    "                         min = weather.Year.min(), \n",
    "                         max = weather.Year.max(), \n",
    "                         value = (weather.Year.max()+weather.Year.min())/2,\n",
    "                         layout=widgets.Layout(width='500px'))\n",
    "\n",
    "chartmax = widgets.interactive_output(fmax, {'year':year})\n",
    "chartmin = widgets.interactive_output(fmin, {'year':year})\n",
    "chartrain = widgets.interactive_output(frain, {'year':year})\n",
    "chartsun = widgets.interactive_output(fsun, {'year':year})\n",
    "\n",
    "header = widgets.HTML(value=\"Adjust the slider below the chart to select year\")\n",
    "\n",
    "grid = widgets.GridspecLayout(4, 2, height='700px', width='1000px')\n",
    "\n",
    "grid[0,:2]=header\n",
    "grid[1,0]=chartmin\n",
    "grid[1,1]=chartmax\n",
    "grid[2,0]=chartrain\n",
    "grid[2,1]=chartsun\n",
    "grid[3,0:2]=year\n",
    "grid"
   ]
  }
 ],
 "metadata": {
  "kernelspec": {
   "display_name": "Python 3 (ipykernel)",
   "language": "python",
   "name": "python3"
  },
  "language_info": {
   "codemirror_mode": {
    "name": "ipython",
    "version": 3
   },
   "file_extension": ".py",
   "mimetype": "text/x-python",
   "name": "python",
   "nbconvert_exporter": "python",
   "pygments_lexer": "ipython3",
   "version": "3.9.8"
  }
 },
 "nbformat": 4,
 "nbformat_minor": 4
}
