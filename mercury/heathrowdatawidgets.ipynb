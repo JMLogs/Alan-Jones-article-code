{
 "cells": [
  {
   "cell_type": "markdown",
   "metadata": {
    "rise": {
     "theme": "sky",
     "transition": "zoom"
    }
   },
   "source": [
    "\n",
    "# Exploring London Weather Data"
   ]
  },
  {
   "cell_type": "code",
   "execution_count": 1,
   "metadata": {
    "slideshow": {
     "slide_type": "fragment"
    }
   },
   "outputs": [],
   "source": [
    "import pandas as pd\n",
    "import ipywidgets as widgets"
   ]
  },
  {
   "cell_type": "code",
   "execution_count": 2,
   "metadata": {},
   "outputs": [],
   "source": [
    "weather=pd.read_csv('heathrowDataFiltered.csv')"
   ]
  },
  {
   "cell_type": "code",
   "execution_count": 3,
   "metadata": {},
   "outputs": [],
   "source": [
    "def fmax(year): f(year, 'Tmax', 'line', yticks = [0,5,10,15,20,25,30], label=\"Degrees Celsius\")\n",
    "def fmin(year): f(year, 'Tmin', 'line',yticks = [0,5,10,15,20,25,30], label=\"Degrees Celsius\")\n",
    "def frain(year): f(year, 'Rain', 'bar',yticks = [0,10,20,30,40,50,60,70,80,90,100], label=\"Millimetres\")\n",
    "def fsun(year): f(year, 'Sun', 'bar',yticks = [0,50,100,150,200,250,300], label=\"Hours\")\n",
    "\n",
    "def f(year,y, kind, yticks,label):\n",
    "    \n",
    "    xticks= [1,2,3,4,5,6,7,8,9,10,11,12]\n",
    "    xlabels = ['Jan','Feb','Mar','Apr','May','Jun','Jul','Aug','Sep','Oct','Nov','Dec']\n",
    "    ax = weather[weather['Year']==year].plot(kind = kind,\n",
    "                                             y = y, \n",
    "                                             x ='Month', \n",
    "                                             yticks = yticks,\n",
    "                                             xticks = xticks,\n",
    "                                             legend = False, \n",
    "                                             title = y)\n",
    "    ax.set_xticklabels(xlabels)\n",
    "    ax.set_ylabel(label)\n",
    "\n",
    "year = widgets.IntSlider(description='Select year', \n",
    "                         min = weather.Year.min(), \n",
    "                         max = weather.Year.max(), \n",
    "                         value = (weather.Year.max()+weather.Year.min())/2,\n",
    "                         layout=widgets.Layout(width='500px'))\n",
    "\n",
    "chartmax = widgets.interactive_output(fmax, {'year':year})\n",
    "chartmin = widgets.interactive_output(fmin, {'year':year})\n",
    "chartrain = widgets.interactive_output(frain, {'year':year})\n",
    "chartsun = widgets.interactive_output(fsun, {'year':year})\n",
    "\n",
    "header = widgets.HTML(value=\"<h1>Monthly weather data</h1>Adjust the slider below the chart to select year\")\n"
   ]
  },
  {
   "cell_type": "code",
   "execution_count": 4,
   "metadata": {},
   "outputs": [
    {
     "data": {
      "application/vnd.jupyter.widget-view+json": {
       "model_id": "e284b096b1af466c926035f561e3f396",
       "version_major": 2,
       "version_minor": 0
      },
      "text/plain": [
       "GridspecLayout(children=(HTML(value='<h1>Monthly weather data</h1>Adjust the slider below the chart to select …"
      ]
     },
     "metadata": {},
     "output_type": "display_data"
    }
   ],
   "source": [
    "grid = widgets.GridspecLayout(3, 4, height='500px')\n",
    "\n",
    "grid[0,:3]=header\n",
    "grid[1,0]=chartmin\n",
    "grid[1,1]=chartmax\n",
    "grid[1,2]=chartrain\n",
    "grid[1,3]=chartsun\n",
    "grid[2,1:3]=year\n",
    "grid\n"
   ]
  }
 ],
 "metadata": {
  "kernelspec": {
   "display_name": "Python 3 (ipykernel)",
   "language": "python",
   "name": "python3"
  },
  "language_info": {
   "codemirror_mode": {
    "name": "ipython",
    "version": 3
   },
   "file_extension": ".py",
   "mimetype": "text/x-python",
   "name": "python",
   "nbconvert_exporter": "python",
   "pygments_lexer": "ipython3",
   "version": "3.9.8"
  }
 },
 "nbformat": 4,
 "nbformat_minor": 4
}
