{
 "cells": [
  {
   "cell_type": "code",
   "execution_count": 24,
   "metadata": {},
   "outputs": [],
   "source": [
    "import pandas as pd\n",
    "import sqlite3 as sql"
   ]
  },
  {
   "cell_type": "code",
   "execution_count": 25,
   "metadata": {},
   "outputs": [],
   "source": [
    "# create df\n",
    "election_df = pd.read_csv('elections.csv')\n",
    "\n",
    "# create db\n",
    "conn = sql.connect('elections.db')"
   ]
  },
  {
   "cell_type": "code",
   "execution_count": 26,
   "metadata": {},
   "outputs": [
    {
     "data": {
      "text/html": [
       "<div>\n",
       "<style scoped>\n",
       "    .dataframe tbody tr th:only-of-type {\n",
       "        vertical-align: middle;\n",
       "    }\n",
       "\n",
       "    .dataframe tbody tr th {\n",
       "        vertical-align: top;\n",
       "    }\n",
       "\n",
       "    .dataframe thead th {\n",
       "        text-align: right;\n",
       "    }\n",
       "</style>\n",
       "<table border=\"1\" class=\"dataframe\">\n",
       "  <thead>\n",
       "    <tr style=\"text-align: right;\">\n",
       "      <th></th>\n",
       "      <th>ons_id</th>\n",
       "      <th>result</th>\n",
       "      <th>first_party</th>\n",
       "      <th>second_party</th>\n",
       "      <th>electorate</th>\n",
       "      <th>valid_votes</th>\n",
       "      <th>invalid_votes</th>\n",
       "      <th>majority</th>\n",
       "      <th>con</th>\n",
       "      <th>lab</th>\n",
       "      <th>...</th>\n",
       "      <th>green</th>\n",
       "      <th>snp</th>\n",
       "      <th>pc</th>\n",
       "      <th>dup</th>\n",
       "      <th>sf</th>\n",
       "      <th>sdlp</th>\n",
       "      <th>uup</th>\n",
       "      <th>alliance</th>\n",
       "      <th>other</th>\n",
       "      <th>other_winner</th>\n",
       "    </tr>\n",
       "  </thead>\n",
       "  <tbody>\n",
       "    <tr>\n",
       "      <th>0</th>\n",
       "      <td>W07000049</td>\n",
       "      <td>Lab hold</td>\n",
       "      <td>Lab</td>\n",
       "      <td>Con</td>\n",
       "      <td>50750</td>\n",
       "      <td>31598</td>\n",
       "      <td>82</td>\n",
       "      <td>10490</td>\n",
       "      <td>6518</td>\n",
       "      <td>17008</td>\n",
       "      <td>...</td>\n",
       "      <td>450</td>\n",
       "      <td>0</td>\n",
       "      <td>2711</td>\n",
       "      <td>0</td>\n",
       "      <td>0</td>\n",
       "      <td>0</td>\n",
       "      <td>0</td>\n",
       "      <td>0</td>\n",
       "      <td>731</td>\n",
       "      <td>0</td>\n",
       "    </tr>\n",
       "    <tr>\n",
       "      <th>1</th>\n",
       "      <td>W07000058</td>\n",
       "      <td>Con hold</td>\n",
       "      <td>Con</td>\n",
       "      <td>Lab</td>\n",
       "      <td>44699</td>\n",
       "      <td>31865</td>\n",
       "      <td>123</td>\n",
       "      <td>2034</td>\n",
       "      <td>14687</td>\n",
       "      <td>12653</td>\n",
       "      <td>...</td>\n",
       "      <td>0</td>\n",
       "      <td>0</td>\n",
       "      <td>2704</td>\n",
       "      <td>0</td>\n",
       "      <td>0</td>\n",
       "      <td>0</td>\n",
       "      <td>0</td>\n",
       "      <td>0</td>\n",
       "      <td>0</td>\n",
       "      <td>0</td>\n",
       "    </tr>\n",
       "    <tr>\n",
       "      <th>2</th>\n",
       "      <td>S14000001</td>\n",
       "      <td>SNP hold</td>\n",
       "      <td>SNP</td>\n",
       "      <td>Con</td>\n",
       "      <td>62489</td>\n",
       "      <td>37413</td>\n",
       "      <td>72</td>\n",
       "      <td>12670</td>\n",
       "      <td>7535</td>\n",
       "      <td>4939</td>\n",
       "      <td>...</td>\n",
       "      <td>880</td>\n",
       "      <td>20205</td>\n",
       "      <td>0</td>\n",
       "      <td>0</td>\n",
       "      <td>0</td>\n",
       "      <td>0</td>\n",
       "      <td>0</td>\n",
       "      <td>0</td>\n",
       "      <td>0</td>\n",
       "      <td>0</td>\n",
       "    </tr>\n",
       "    <tr>\n",
       "      <th>3</th>\n",
       "      <td>S14000002</td>\n",
       "      <td>SNP gain from Con</td>\n",
       "      <td>SNP</td>\n",
       "      <td>Con</td>\n",
       "      <td>65719</td>\n",
       "      <td>45638</td>\n",
       "      <td>131</td>\n",
       "      <td>3990</td>\n",
       "      <td>16398</td>\n",
       "      <td>3834</td>\n",
       "      <td>...</td>\n",
       "      <td>0</td>\n",
       "      <td>20388</td>\n",
       "      <td>0</td>\n",
       "      <td>0</td>\n",
       "      <td>0</td>\n",
       "      <td>0</td>\n",
       "      <td>0</td>\n",
       "      <td>0</td>\n",
       "      <td>0</td>\n",
       "      <td>0</td>\n",
       "    </tr>\n",
       "  </tbody>\n",
       "</table>\n",
       "<p>4 rows × 22 columns</p>\n",
       "</div>"
      ],
      "text/plain": [
       "      ons_id             result first_party second_party  electorate  \\\n",
       "0  W07000049           Lab hold         Lab          Con       50750   \n",
       "1  W07000058           Con hold         Con          Lab       44699   \n",
       "2  S14000001           SNP hold         SNP          Con       62489   \n",
       "3  S14000002  SNP gain from Con         SNP          Con       65719   \n",
       "\n",
       "   valid_votes  invalid_votes  majority    con    lab  ...  green    snp  \\\n",
       "0        31598             82     10490   6518  17008  ...    450      0   \n",
       "1        31865            123      2034  14687  12653  ...      0      0   \n",
       "2        37413             72     12670   7535   4939  ...    880  20205   \n",
       "3        45638            131      3990  16398   3834  ...      0  20388   \n",
       "\n",
       "     pc  dup  sf  sdlp  uup  alliance  other  other_winner  \n",
       "0  2711    0   0     0    0         0    731             0  \n",
       "1  2704    0   0     0    0         0      0             0  \n",
       "2     0    0   0     0    0         0      0             0  \n",
       "3     0    0   0     0    0         0      0             0  \n",
       "\n",
       "[4 rows x 22 columns]"
      ]
     },
     "execution_count": 26,
     "metadata": {},
     "output_type": "execute_result"
    }
   ],
   "source": [
    "election_df.head(4)\n"
   ]
  },
  {
   "cell_type": "code",
   "execution_count": 4,
   "metadata": {},
   "outputs": [
    {
     "name": "stdout",
     "output_type": "stream",
     "text": [
      "[(0, 'W07000049', 'Lab hold', 'Lab', 'Con', 50750, 31598, 82, 10490, 6518, 17008, 1072, 3108, 450, 0, 2711, 0, 0, 0, 0, 0, 731, 0), (1, 'W07000058', 'Con hold', 'Con', 'Lab', 44699, 31865, 123, 2034, 14687, 12653, 1821, 0, 0, 0, 2704, 0, 0, 0, 0, 0, 0, 0), (2, 'S14000001', 'SNP hold', 'SNP', 'Con', 62489, 37413, 72, 12670, 7535, 4939, 2846, 1008, 880, 20205, 0, 0, 0, 0, 0, 0, 0, 0), (3, 'S14000002', 'SNP gain from Con', 'SNP', 'Con', 65719, 45638, 131, 3990, 16398, 3834, 5018, 0, 0, 20388, 0, 0, 0, 0, 0, 0, 0, 0)]\n"
     ]
    }
   ],
   "source": [
    "# Select all from database\n",
    "query = \"SELECT * FROM elections\"\n",
    "cur = conn.execute(query)\n",
    "rows = cur.fetchall()\n",
    "print(rows[0:4])"
   ]
  },
  {
   "cell_type": "code",
   "execution_count": 5,
   "metadata": {},
   "outputs": [
    {
     "name": "stdout",
     "output_type": "stream",
     "text": [
      "[('Lab',), ('Con',), ('SNP',), ('SNP',)]\n"
     ]
    }
   ],
   "source": [
    "query = \"\"\"\n",
    "    SELECT first_party \n",
    "    FROM elections\n",
    "\"\"\"\n",
    "cur = conn.execute(query)\n",
    "rows = cur.fetchall()\n",
    "print(rows[0:4])"
   ]
  },
  {
   "cell_type": "code",
   "execution_count": 6,
   "metadata": {},
   "outputs": [
    {
     "data": {
      "text/plain": [
       "0    Lab\n",
       "1    Con\n",
       "2    SNP\n",
       "3    SNP\n",
       "Name: first_party, dtype: object"
      ]
     },
     "execution_count": 6,
     "metadata": {},
     "output_type": "execute_result"
    }
   ],
   "source": [
    "election_df['first_party'][0:4]"
   ]
  },
  {
   "cell_type": "code",
   "execution_count": 7,
   "metadata": {},
   "outputs": [
    {
     "data": {
      "text/plain": [
       "[('Lab',),\n",
       " ('Con',),\n",
       " ('SNP',),\n",
       " ('PC',),\n",
       " ('LD',),\n",
       " ('DUP',),\n",
       " ('SF',),\n",
       " ('SDLP',),\n",
       " ('Green',),\n",
       " ('Spk',),\n",
       " ('Alliance',)]"
      ]
     },
     "execution_count": 7,
     "metadata": {},
     "output_type": "execute_result"
    }
   ],
   "source": [
    "query = \"\"\"\n",
    "    SELECT DISTINCT first_party \n",
    "    FROM elections\n",
    "\"\"\"\n",
    "cur = conn.execute(query)\n",
    "rows = cur.fetchall()\n",
    "partiesdb = rows\n",
    "partiesdb\n"
   ]
  },
  {
   "cell_type": "code",
   "execution_count": 8,
   "metadata": {},
   "outputs": [
    {
     "data": {
      "text/plain": [
       "array(['Lab', 'Con', 'SNP', 'PC', 'LD', 'DUP', 'SF', 'SDLP', 'Green',\n",
       "       'Spk', 'Alliance'], dtype=object)"
      ]
     },
     "execution_count": 8,
     "metadata": {},
     "output_type": "execute_result"
    }
   ],
   "source": [
    "partiesdf = election_df['first_party'].unique()\n",
    "partiesdf"
   ]
  },
  {
   "cell_type": "code",
   "execution_count": 9,
   "metadata": {},
   "outputs": [
    {
     "data": {
      "text/plain": [
       "202"
      ]
     },
     "execution_count": 9,
     "metadata": {},
     "output_type": "execute_result"
    }
   ],
   "source": [
    "query = \"\"\"\n",
    "    SELECT first_party \n",
    "    FROM elections\n",
    "    WHERE first_party == 'Lab'\n",
    "\"\"\"\n",
    "cur = conn.execute(query)\n",
    "rows = cur.fetchall()\n",
    "labWinsdb=len(rows)\n",
    "labWinsdb\n",
    "\n"
   ]
  },
  {
   "cell_type": "code",
   "execution_count": 10,
   "metadata": {},
   "outputs": [
    {
     "data": {
      "text/plain": [
       "202"
      ]
     },
     "execution_count": 10,
     "metadata": {},
     "output_type": "execute_result"
    }
   ],
   "source": [
    "labWinsdf = len(election_df[election_df['first_party'] == 'Lab'])\n",
    "labWinsdf"
   ]
  },
  {
   "cell_type": "code",
   "execution_count": 11,
   "metadata": {},
   "outputs": [
    {
     "data": {
      "text/plain": [
       "0       True\n",
       "1      False\n",
       "2      False\n",
       "3      False\n",
       "4      False\n",
       "       ...  \n",
       "645     True\n",
       "646    False\n",
       "647    False\n",
       "648     True\n",
       "649    False\n",
       "Name: first_party, Length: 650, dtype: bool"
      ]
     },
     "execution_count": 11,
     "metadata": {},
     "output_type": "execute_result"
    }
   ],
   "source": [
    "election_df['first_party'] == 'Lab'"
   ]
  },
  {
   "cell_type": "code",
   "execution_count": 12,
   "metadata": {},
   "outputs": [
    {
     "name": "stdout",
     "output_type": "stream",
     "text": [
      "202\n",
      "365\n",
      "48\n",
      "4\n",
      "11\n",
      "8\n",
      "7\n",
      "2\n",
      "1\n",
      "1\n",
      "1\n",
      "[('Lab',), ('Con',), ('SNP',), ('PC',), ('LD',), ('DUP',), ('SF',), ('SDLP',), ('Green',), ('Spk',), ('Alliance',)]\n"
     ]
    },
    {
     "data": {
      "text/plain": [
       "[202, 365, 48, 4, 11, 8, 7, 2, 1, 1, 1]"
      ]
     },
     "execution_count": 12,
     "metadata": {},
     "output_type": "execute_result"
    }
   ],
   "source": [
    "partyWinsdb = []\n",
    "for i in partiesdb:\n",
    "    query = f\"\"\"\n",
    "        SELECT * \n",
    "        FROM elections\n",
    "        WHERE first_party = '{i[0]}'\n",
    "    \"\"\"\n",
    "    cur = conn.execute(query)\n",
    "    rows = cur.fetchall()\n",
    "    partyWinsdb.append(len(rows))\n",
    "    print(len(rows))\n",
    "\n",
    "print(partiesdb)\n",
    "partyWinsdb\n",
    "    "
   ]
  },
  {
   "cell_type": "code",
   "execution_count": 13,
   "metadata": {},
   "outputs": [
    {
     "name": "stdout",
     "output_type": "stream",
     "text": [
      "[('Lab',), ('Con',), ('SNP',), ('PC',), ('LD',), ('DUP',), ('SF',), ('SDLP',), ('Green',), ('Spk',), ('Alliance',)]\n"
     ]
    },
    {
     "data": {
      "text/plain": [
       "[202, 365, 48, 4, 11, 8, 7, 2, 1, 1, 1]"
      ]
     },
     "execution_count": 13,
     "metadata": {},
     "output_type": "execute_result"
    }
   ],
   "source": [
    "def getWins(i):\n",
    "    query = f\"\"\"\n",
    "        SELECT * \n",
    "        FROM elections\n",
    "        WHERE first_party = '{i[0]}'\n",
    "    \"\"\"\n",
    "    cur = conn.execute(query)\n",
    "    rows = cur.fetchall()\n",
    "    return(len(rows))\n",
    "\n",
    "partyWinsdb = [ getWins(i) for i in partiesdb]\n",
    "    \n",
    "\n",
    "print(partiesdb)\n",
    "partyWinsdb"
   ]
  },
  {
   "cell_type": "code",
   "execution_count": 14,
   "metadata": {},
   "outputs": [
    {
     "name": "stdout",
     "output_type": "stream",
     "text": [
      "['Lab' 'Con' 'SNP' 'PC' 'LD' 'DUP' 'SF' 'SDLP' 'Green' 'Spk' 'Alliance']\n"
     ]
    },
    {
     "data": {
      "text/plain": [
       "[202, 365, 48, 4, 11, 8, 7, 2, 1, 1, 1]"
      ]
     },
     "execution_count": 14,
     "metadata": {},
     "output_type": "execute_result"
    }
   ],
   "source": [
    "partyWinsdf = []\n",
    "\n",
    "for i in partiesdf:\n",
    "    partyWinsdf.append(len(election_df[election_df['first_party']==i]))\n",
    "print(partiesdf)\n",
    "partyWinsdf\n",
    "    \n"
   ]
  },
  {
   "cell_type": "code",
   "execution_count": 15,
   "metadata": {},
   "outputs": [
    {
     "name": "stdout",
     "output_type": "stream",
     "text": [
      "['Lab' 'Con' 'SNP' 'PC' 'LD' 'DUP' 'SF' 'SDLP' 'Green' 'Spk' 'Alliance']\n"
     ]
    },
    {
     "data": {
      "text/plain": [
       "[202, 365, 48, 4, 11, 8, 7, 2, 1, 1, 1]"
      ]
     },
     "execution_count": 15,
     "metadata": {},
     "output_type": "execute_result"
    }
   ],
   "source": [
    "partyWinsdf = [len(election_df[election_df['first_party']==i]) for i in partiesdf]\n",
    "print(partiesdf)\n",
    "partyWinsdf"
   ]
  },
  {
   "cell_type": "code",
   "execution_count": null,
   "metadata": {},
   "outputs": [],
   "source": []
  },
  {
   "cell_type": "code",
   "execution_count": 16,
   "metadata": {},
   "outputs": [
    {
     "data": {
      "text/plain": [
       "array(['Lab', 'Con', 'SNP', 'PC', 'LD', 'DUP', 'SF', 'SDLP', 'Green',\n",
       "       'Spk', 'Alliance'], dtype=object)"
      ]
     },
     "execution_count": 16,
     "metadata": {},
     "output_type": "execute_result"
    }
   ],
   "source": [
    "partiesdf"
   ]
  },
  {
   "cell_type": "code",
   "execution_count": 17,
   "metadata": {},
   "outputs": [
    {
     "data": {
      "text/plain": [
       "<AxesSubplot:>"
      ]
     },
     "execution_count": 17,
     "metadata": {},
     "output_type": "execute_result"
    },
    {
     "data": {
      "image/png": "[encoded data removed]",
      "text/plain": [
       "<Figure size 432x288 with 1 Axes>"
      ]
     },
     "metadata": {
      "needs_background": "light"
     },
     "output_type": "display_data"
    },
    {
     "data": {
      "image/png": "[encoded data removed]",
      "text/plain": [
       "<Figure size 432x288 with 1 Axes>"
      ]
     },
     "metadata": {
      "needs_background": "light"
     },
     "output_type": "display_data"
    }
   ],
   "source": [
    "dfdf = pd.DataFrame(partyWinsdf,partiesdf)\n",
    "dfdf.plot.bar(legend=False)\n",
    "dfdb = pd.DataFrame(partyWinsdb,partiesdb)\n",
    "dfdb.plot.bar(legend=False)"
   ]
  },
  {
   "cell_type": "code",
   "execution_count": 18,
   "metadata": {},
   "outputs": [
    {
     "data": {
      "text/plain": [
       "Index(['Unnamed: 0', 'ons_id', 'result', 'first_party', 'second_party',\n",
       "       'electorate', 'valid_votes', 'invalid_votes', 'majority', 'con', 'lab',\n",
       "       'ld', 'brexit', 'green', 'snp', 'pc', 'dup', 'sf', 'sdlp', 'uup',\n",
       "       'alliance', 'other', 'other_winner'],\n",
       "      dtype='object')"
      ]
     },
     "execution_count": 18,
     "metadata": {},
     "output_type": "execute_result"
    }
   ],
   "source": [
    "election_df.columns"
   ]
  },
  {
   "cell_type": "code",
   "execution_count": 19,
   "metadata": {},
   "outputs": [
    {
     "name": "stdout",
     "output_type": "stream",
     "text": [
      "[202, 365, 48, 4, 11, 8, 7, 2, 1, 1]\n",
      "32014110\n"
     ]
    },
    {
     "data": {
      "text/plain": [
       "[10269051,\n",
       " 13966454,\n",
       " 1242380,\n",
       " 153265,\n",
       " 3696419,\n",
       " 244128,\n",
       " 181853,\n",
       " 118737,\n",
       " 865715,\n",
       " 134115]"
      ]
     },
     "execution_count": 19,
     "metadata": {},
     "output_type": "execute_result"
    }
   ],
   "source": [
    "parties = list(partiesdf)\n",
    "parties.remove('Spk')\n",
    "seats = list(partyWinsdf)[:-1]\n",
    "#seats.remove('Spk')\n",
    "print(seats)\n",
    "\n",
    "total_votes=election_df['valid_votes'].sum()\n",
    "\n",
    "print(total_votes)\n",
    "total_votes_party = [election_df[i.lower()].sum(axis=0) for i in parties]\n",
    "total_votes_party"
   ]
  },
  {
   "cell_type": "code",
   "execution_count": 20,
   "metadata": {},
   "outputs": [
    {
     "data": {
      "text/html": [
       "<div>\n",
       "<style scoped>\n",
       "    .dataframe tbody tr th:only-of-type {\n",
       "        vertical-align: middle;\n",
       "    }\n",
       "\n",
       "    .dataframe tbody tr th {\n",
       "        vertical-align: top;\n",
       "    }\n",
       "\n",
       "    .dataframe thead th {\n",
       "        text-align: right;\n",
       "    }\n",
       "</style>\n",
       "<table border=\"1\" class=\"dataframe\">\n",
       "  <thead>\n",
       "    <tr style=\"text-align: right;\">\n",
       "      <th></th>\n",
       "      <th>parties</th>\n",
       "      <th>percentage_votes</th>\n",
       "      <th>percentage_seats</th>\n",
       "    </tr>\n",
       "  </thead>\n",
       "  <tbody>\n",
       "    <tr>\n",
       "      <th>0</th>\n",
       "      <td>Lab</td>\n",
       "      <td>32.076641</td>\n",
       "      <td>31.076923</td>\n",
       "    </tr>\n",
       "    <tr>\n",
       "      <th>1</th>\n",
       "      <td>Con</td>\n",
       "      <td>43.625932</td>\n",
       "      <td>56.153846</td>\n",
       "    </tr>\n",
       "    <tr>\n",
       "      <th>2</th>\n",
       "      <td>SNP</td>\n",
       "      <td>3.880726</td>\n",
       "      <td>7.384615</td>\n",
       "    </tr>\n",
       "    <tr>\n",
       "      <th>3</th>\n",
       "      <td>PC</td>\n",
       "      <td>0.478742</td>\n",
       "      <td>0.615385</td>\n",
       "    </tr>\n",
       "    <tr>\n",
       "      <th>4</th>\n",
       "      <td>LD</td>\n",
       "      <td>11.546218</td>\n",
       "      <td>1.692308</td>\n",
       "    </tr>\n",
       "    <tr>\n",
       "      <th>5</th>\n",
       "      <td>DUP</td>\n",
       "      <td>0.762564</td>\n",
       "      <td>1.230769</td>\n",
       "    </tr>\n",
       "    <tr>\n",
       "      <th>6</th>\n",
       "      <td>SF</td>\n",
       "      <td>0.568040</td>\n",
       "      <td>1.076923</td>\n",
       "    </tr>\n",
       "    <tr>\n",
       "      <th>7</th>\n",
       "      <td>SDLP</td>\n",
       "      <td>0.370890</td>\n",
       "      <td>0.307692</td>\n",
       "    </tr>\n",
       "    <tr>\n",
       "      <th>8</th>\n",
       "      <td>Green</td>\n",
       "      <td>2.704167</td>\n",
       "      <td>0.153846</td>\n",
       "    </tr>\n",
       "    <tr>\n",
       "      <th>9</th>\n",
       "      <td>Alliance</td>\n",
       "      <td>0.418925</td>\n",
       "      <td>0.153846</td>\n",
       "    </tr>\n",
       "  </tbody>\n",
       "</table>\n",
       "</div>"
      ],
      "text/plain": [
       "    parties  percentage_votes  percentage_seats\n",
       "0       Lab         32.076641         31.076923\n",
       "1       Con         43.625932         56.153846\n",
       "2       SNP          3.880726          7.384615\n",
       "3        PC          0.478742          0.615385\n",
       "4        LD         11.546218          1.692308\n",
       "5       DUP          0.762564          1.230769\n",
       "6        SF          0.568040          1.076923\n",
       "7      SDLP          0.370890          0.307692\n",
       "8     Green          2.704167          0.153846\n",
       "9  Alliance          0.418925          0.153846"
      ]
     },
     "execution_count": 20,
     "metadata": {},
     "output_type": "execute_result"
    },
    {
     "data": {
      "image/png": "[encoded data removed]",
      "text/plain": [
       "<Figure size 1080x360 with 1 Axes>"
      ]
     },
     "metadata": {
      "needs_background": "light"
     },
     "output_type": "display_data"
    }
   ],
   "source": [
    "share = [ total_votes_party[i]/total_votes*100 for i in range(0,len(total_votes_party))]\n",
    "\n",
    "sharedf = pd.DataFrame()\n",
    "sharedf['parties'] = parties\n",
    "sharedf['percentage_votes'] = total_votes_party\n",
    "sharedf['percentage_votes']=sharedf['percentage_votes']/total_votes*100\n",
    "sharedf['percentage_seats'] = seats\n",
    "sharedf['percentage_seats']=sharedf['percentage_seats']/650*100\n",
    "\n",
    "sharedf.plot.barh(x='parties',figsize=(15,5))\n",
    "\n",
    "\n",
    "sharedf"
   ]
  }
 ],
 "metadata": {
  "interpreter": {
   "hash": "ebf8d43d3d173dc48345ffb6b59ad16b10ee255e28de3a129e6f6400e8327d9f"
  },
  "kernelspec": {
   "display_name": "Python 3.9.7 64-bit ('base': conda)",
   "language": "python",
   "name": "python3"
  },
  "language_info": {
   "codemirror_mode": {
    "name": "ipython",
    "version": 3
   },
   "file_extension": ".py",
   "mimetype": "text/x-python",
   "name": "python",
   "nbconvert_exporter": "python",
   "pygments_lexer": "ipython3",
   "version": "3.9.8"
  },
  "orig_nbformat": 4
 },
 "nbformat": 4,
 "nbformat_minor": 2
}
