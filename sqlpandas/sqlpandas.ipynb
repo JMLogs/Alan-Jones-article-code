{
 "cells": [
  {
   "cell_type": "code",
   "execution_count": 23,
   "metadata": {},
   "outputs": [
    {
     "data": {
      "text/plain": [
       "Index(['ons_id', 'ons_region_id', 'constituency_name', 'county_name',\n",
       "       'region_name', 'country_name', 'constituency_type', 'declaration_time',\n",
       "       'mp_firstname', 'mp_surname', 'mp_gender', 'result', 'first_party',\n",
       "       'second_party', 'electorate', 'valid_votes', 'invalid_votes',\n",
       "       'majority', 'con', 'lab', 'ld', 'brexit', 'green', 'snp', 'pc', 'dup',\n",
       "       'sf', 'sdlp', 'uup', 'alliance', 'other', 'other_winner'],\n",
       "      dtype='object')"
      ]
     },
     "execution_count": 23,
     "metadata": {},
     "output_type": "execute_result"
    }
   ],
   "source": [
    "import pandas as pd\n",
    "import sqlite3 as sql\n",
    "\n",
    "election_df = pd.read_csv(\"https://researchbriefings.files.parliament.uk/documents/CBP-8749/HoC-GE2019-results-by-constituency-csv.csv\")\n",
    "\n",
    "election_df.columns"
   ]
  },
  {
   "cell_type": "code",
   "execution_count": 27,
   "metadata": {},
   "outputs": [],
   "source": [
    "conn = sql.connect('elections2.db')\n",
    "#election_df.to_sql('elections', conn)"
   ]
  },
  {
   "cell_type": "code",
   "execution_count": 25,
   "metadata": {},
   "outputs": [],
   "source": [
    "query = \"SELECT * FROM elections\"\n",
    "\n",
    "cur = conn.cursor()\n",
    "\n",
    "rows = cur.fetchall()\n",
    "\n",
    "for r in rows:\n",
    "    print(r)"
   ]
  },
  {
   "cell_type": "code",
   "execution_count": null,
   "metadata": {},
   "outputs": [],
   "source": []
  }
 ],
 "metadata": {
  "interpreter": {
   "hash": "ebf8d43d3d173dc48345ffb6b59ad16b10ee255e28de3a129e6f6400e8327d9f"
  },
  "kernelspec": {
   "display_name": "Python 3.9.7 64-bit ('base': conda)",
   "language": "python",
   "name": "python3"
  },
  "language_info": {
   "codemirror_mode": {
    "name": "ipython",
    "version": 3
   },
   "file_extension": ".py",
   "mimetype": "text/x-python",
   "name": "python",
   "nbconvert_exporter": "python",
   "pygments_lexer": "ipython3",
   "version": "3.9.8"
  },
  "orig_nbformat": 4
 },
 "nbformat": 4,
 "nbformat_minor": 2
}
