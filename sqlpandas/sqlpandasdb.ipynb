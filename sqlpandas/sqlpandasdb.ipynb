{
 "cells": [
  {
   "cell_type": "code",
   "execution_count": 10,
   "metadata": {},
   "outputs": [],
   "source": [
    "import sqlite3 as sql"
   ]
  },
  {
   "cell_type": "code",
   "execution_count": 11,
   "metadata": {},
   "outputs": [],
   "source": [
    "# create db\n",
    "conn = sql.connect('elections.db')"
   ]
  },
  {
   "cell_type": "code",
   "execution_count": 12,
   "metadata": {},
   "outputs": [
    {
     "name": "stdout",
     "output_type": "stream",
     "text": [
      "[(0, 'W07000049', 'Lab hold', 'Lab', 'Con', 50750, 31598, 82, 10490, 6518, 17008, 1072, 3108, 450, 0, 2711, 0, 0, 0, 0, 0, 731, 0), (1, 'W07000058', 'Con hold', 'Con', 'Lab', 44699, 31865, 123, 2034, 14687, 12653, 1821, 0, 0, 0, 2704, 0, 0, 0, 0, 0, 0, 0), (2, 'S14000001', 'SNP hold', 'SNP', 'Con', 62489, 37413, 72, 12670, 7535, 4939, 2846, 1008, 880, 20205, 0, 0, 0, 0, 0, 0, 0, 0), (3, 'S14000002', 'SNP gain from Con', 'SNP', 'Con', 65719, 45638, 131, 3990, 16398, 3834, 5018, 0, 0, 20388, 0, 0, 0, 0, 0, 0, 0, 0)]\n"
     ]
    }
   ],
   "source": [
    "# Select all from database\n",
    "query = \"SELECT * FROM elections\"\n",
    "cur = conn.execute(query)\n",
    "rows = cur.fetchall()\n",
    "print(rows[0:4])"
   ]
  },
  {
   "cell_type": "code",
   "execution_count": 13,
   "metadata": {},
   "outputs": [
    {
     "name": "stdout",
     "output_type": "stream",
     "text": [
      "[('Lab',), ('Con',), ('SNP',), ('SNP',)]\n"
     ]
    }
   ],
   "source": [
    "query = \"\"\"\n",
    "    SELECT first_party \n",
    "    FROM elections\n",
    "\"\"\"\n",
    "cur = conn.execute(query)\n",
    "rows = cur.fetchall()\n",
    "print(rows[0:4])"
   ]
  },
  {
   "cell_type": "code",
   "execution_count": 14,
   "metadata": {},
   "outputs": [
    {
     "data": {
      "text/plain": [
       "[('Lab',),\n",
       " ('Con',),\n",
       " ('SNP',),\n",
       " ('PC',),\n",
       " ('LD',),\n",
       " ('DUP',),\n",
       " ('SF',),\n",
       " ('SDLP',),\n",
       " ('Green',),\n",
       " ('Spk',),\n",
       " ('Alliance',)]"
      ]
     },
     "execution_count": 14,
     "metadata": {},
     "output_type": "execute_result"
    }
   ],
   "source": [
    "query = \"\"\"\n",
    "    SELECT DISTINCT first_party \n",
    "    FROM elections\n",
    "\"\"\"\n",
    "cur = conn.execute(query)\n",
    "rows = cur.fetchall()\n",
    "partiesdb = rows\n",
    "partiesdb\n"
   ]
  },
  {
   "cell_type": "code",
   "execution_count": 15,
   "metadata": {},
   "outputs": [
    {
     "data": {
      "text/plain": [
       "202"
      ]
     },
     "execution_count": 15,
     "metadata": {},
     "output_type": "execute_result"
    }
   ],
   "source": [
    "query = \"\"\"\n",
    "    SELECT first_party \n",
    "    FROM elections\n",
    "    WHERE first_party == 'Lab'\n",
    "\"\"\"\n",
    "cur = conn.execute(query)\n",
    "rows = cur.fetchall()\n",
    "labWinsdb=len(rows)\n",
    "labWinsdb"
   ]
  },
  {
   "cell_type": "code",
   "execution_count": 16,
   "metadata": {},
   "outputs": [
    {
     "name": "stdout",
     "output_type": "stream",
     "text": [
      "[('Lab',), ('Con',), ('SNP',), ('PC',), ('LD',), ('DUP',), ('SF',), ('SDLP',), ('Green',), ('Spk',), ('Alliance',)]\n"
     ]
    },
    {
     "data": {
      "text/plain": [
       "[202, 365, 48, 4, 11, 8, 7, 2, 1, 1, 1]"
      ]
     },
     "execution_count": 16,
     "metadata": {},
     "output_type": "execute_result"
    }
   ],
   "source": [
    "partyWinsdb = []\n",
    "for i in partiesdb:\n",
    "    query = f\"\"\"\n",
    "        SELECT * \n",
    "        FROM elections\n",
    "        WHERE first_party = '{i[0]}'\n",
    "    \"\"\"\n",
    "    cur = conn.execute(query)\n",
    "    rows = cur.fetchall()\n",
    "    partyWinsdb.append(len(rows))\n",
    "\n",
    "print(partiesdb)\n",
    "partyWinsdb\n",
    "    "
   ]
  },
  {
   "cell_type": "code",
   "execution_count": 17,
   "metadata": {},
   "outputs": [
    {
     "name": "stdout",
     "output_type": "stream",
     "text": [
      "[('Lab',), ('Con',), ('SNP',), ('PC',), ('LD',), ('DUP',), ('SF',), ('SDLP',), ('Green',), ('Spk',), ('Alliance',)]\n"
     ]
    },
    {
     "data": {
      "text/plain": [
       "[202, 365, 48, 4, 11, 8, 7, 2, 1, 1, 1]"
      ]
     },
     "execution_count": 17,
     "metadata": {},
     "output_type": "execute_result"
    }
   ],
   "source": [
    "def getWins(i):\n",
    "    query = f\"\"\"\n",
    "        SELECT * \n",
    "        FROM elections\n",
    "        WHERE first_party = '{i[0]}'\n",
    "    \"\"\"\n",
    "    cur = conn.execute(query)\n",
    "    rows = cur.fetchall()\n",
    "    return(len(rows))\n",
    "\n",
    "partyWinsdb = [ getWins(i) for i in partiesdb]\n",
    "    \n",
    "\n",
    "print(partiesdb)\n",
    "partyWinsdb"
   ]
  },
  {
   "cell_type": "code",
   "execution_count": 20,
   "metadata": {},
   "outputs": [
    {
     "data": {
      "text/plain": [
       "<AxesSubplot:>"
      ]
     },
     "execution_count": 20,
     "metadata": {},
     "output_type": "execute_result"
    },
    {
     "data": {
      "image/png": "[encoded data removed]",
      "text/plain": [
       "<Figure size 432x288 with 1 Axes>"
      ]
     },
     "metadata": {
      "needs_background": "light"
     },
     "output_type": "display_data"
    }
   ],
   "source": [
    "import pandas as pd\n",
    "dfdb = pd.DataFrame(partyWinsdb,partiesdb)\n",
    "dfdb.plot.bar(legend=False)"
   ]
  },
  {
   "cell_type": "code",
   "execution_count": 18,
   "metadata": {},
   "outputs": [],
   "source": [
    "conn.close()"
   ]
  }
 ],
 "metadata": {
  "interpreter": {
   "hash": "ebf8d43d3d173dc48345ffb6b59ad16b10ee255e28de3a129e6f6400e8327d9f"
  },
  "kernelspec": {
   "display_name": "Python 3.9.7 64-bit ('base': conda)",
   "language": "python",
   "name": "python3"
  },
  "language_info": {
   "codemirror_mode": {
    "name": "ipython",
    "version": 3
   },
   "file_extension": ".py",
   "mimetype": "text/x-python",
   "name": "python",
   "nbconvert_exporter": "python",
   "pygments_lexer": "ipython3",
   "version": "3.9.8"
  },
  "orig_nbformat": 4
 },
 "nbformat": 4,
 "nbformat_minor": 2
}
