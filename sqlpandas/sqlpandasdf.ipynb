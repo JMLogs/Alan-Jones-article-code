{
 "cells": [
  {
   "cell_type": "code",
   "execution_count": 151,
   "metadata": {},
   "outputs": [],
   "source": [
    "import pandas as pd"
   ]
  },
  {
   "cell_type": "code",
   "execution_count": 152,
   "metadata": {},
   "outputs": [],
   "source": [
    "# create df\n",
    "election_df = pd.read_csv('elections.csv')"
   ]
  },
  {
   "cell_type": "code",
   "execution_count": 153,
   "metadata": {},
   "outputs": [
    {
     "data": {
      "text/html": [
       "<div>\n",
       "<style scoped>\n",
       "    .dataframe tbody tr th:only-of-type {\n",
       "        vertical-align: middle;\n",
       "    }\n",
       "\n",
       "    .dataframe tbody tr th {\n",
       "        vertical-align: top;\n",
       "    }\n",
       "\n",
       "    .dataframe thead th {\n",
       "        text-align: right;\n",
       "    }\n",
       "</style>\n",
       "<table border=\"1\" class=\"dataframe\">\n",
       "  <thead>\n",
       "    <tr style=\"text-align: right;\">\n",
       "      <th></th>\n",
       "      <th>ons_id</th>\n",
       "      <th>result</th>\n",
       "      <th>first_party</th>\n",
       "      <th>second_party</th>\n",
       "      <th>electorate</th>\n",
       "      <th>valid_votes</th>\n",
       "      <th>invalid_votes</th>\n",
       "      <th>majority</th>\n",
       "      <th>con</th>\n",
       "      <th>lab</th>\n",
       "      <th>...</th>\n",
       "      <th>green</th>\n",
       "      <th>snp</th>\n",
       "      <th>pc</th>\n",
       "      <th>dup</th>\n",
       "      <th>sf</th>\n",
       "      <th>sdlp</th>\n",
       "      <th>uup</th>\n",
       "      <th>alliance</th>\n",
       "      <th>other</th>\n",
       "      <th>other_winner</th>\n",
       "    </tr>\n",
       "  </thead>\n",
       "  <tbody>\n",
       "    <tr>\n",
       "      <th>0</th>\n",
       "      <td>W07000049</td>\n",
       "      <td>Lab hold</td>\n",
       "      <td>lab</td>\n",
       "      <td>con</td>\n",
       "      <td>50750</td>\n",
       "      <td>31598</td>\n",
       "      <td>82</td>\n",
       "      <td>10490</td>\n",
       "      <td>6518</td>\n",
       "      <td>17008</td>\n",
       "      <td>...</td>\n",
       "      <td>450</td>\n",
       "      <td>0</td>\n",
       "      <td>2711</td>\n",
       "      <td>0</td>\n",
       "      <td>0</td>\n",
       "      <td>0</td>\n",
       "      <td>0</td>\n",
       "      <td>0</td>\n",
       "      <td>731</td>\n",
       "      <td>0</td>\n",
       "    </tr>\n",
       "    <tr>\n",
       "      <th>1</th>\n",
       "      <td>W07000058</td>\n",
       "      <td>Con hold</td>\n",
       "      <td>con</td>\n",
       "      <td>lab</td>\n",
       "      <td>44699</td>\n",
       "      <td>31865</td>\n",
       "      <td>123</td>\n",
       "      <td>2034</td>\n",
       "      <td>14687</td>\n",
       "      <td>12653</td>\n",
       "      <td>...</td>\n",
       "      <td>0</td>\n",
       "      <td>0</td>\n",
       "      <td>2704</td>\n",
       "      <td>0</td>\n",
       "      <td>0</td>\n",
       "      <td>0</td>\n",
       "      <td>0</td>\n",
       "      <td>0</td>\n",
       "      <td>0</td>\n",
       "      <td>0</td>\n",
       "    </tr>\n",
       "    <tr>\n",
       "      <th>2</th>\n",
       "      <td>S14000001</td>\n",
       "      <td>SNP hold</td>\n",
       "      <td>snp</td>\n",
       "      <td>con</td>\n",
       "      <td>62489</td>\n",
       "      <td>37413</td>\n",
       "      <td>72</td>\n",
       "      <td>12670</td>\n",
       "      <td>7535</td>\n",
       "      <td>4939</td>\n",
       "      <td>...</td>\n",
       "      <td>880</td>\n",
       "      <td>20205</td>\n",
       "      <td>0</td>\n",
       "      <td>0</td>\n",
       "      <td>0</td>\n",
       "      <td>0</td>\n",
       "      <td>0</td>\n",
       "      <td>0</td>\n",
       "      <td>0</td>\n",
       "      <td>0</td>\n",
       "    </tr>\n",
       "    <tr>\n",
       "      <th>3</th>\n",
       "      <td>S14000002</td>\n",
       "      <td>SNP gain from Con</td>\n",
       "      <td>snp</td>\n",
       "      <td>con</td>\n",
       "      <td>65719</td>\n",
       "      <td>45638</td>\n",
       "      <td>131</td>\n",
       "      <td>3990</td>\n",
       "      <td>16398</td>\n",
       "      <td>3834</td>\n",
       "      <td>...</td>\n",
       "      <td>0</td>\n",
       "      <td>20388</td>\n",
       "      <td>0</td>\n",
       "      <td>0</td>\n",
       "      <td>0</td>\n",
       "      <td>0</td>\n",
       "      <td>0</td>\n",
       "      <td>0</td>\n",
       "      <td>0</td>\n",
       "      <td>0</td>\n",
       "    </tr>\n",
       "  </tbody>\n",
       "</table>\n",
       "<p>4 rows × 22 columns</p>\n",
       "</div>"
      ],
      "text/plain": [
       "      ons_id             result first_party second_party  electorate  \\\n",
       "0  W07000049           Lab hold         lab          con       50750   \n",
       "1  W07000058           Con hold         con          lab       44699   \n",
       "2  S14000001           SNP hold         snp          con       62489   \n",
       "3  S14000002  SNP gain from Con         snp          con       65719   \n",
       "\n",
       "   valid_votes  invalid_votes  majority    con    lab  ...  green    snp  \\\n",
       "0        31598             82     10490   6518  17008  ...    450      0   \n",
       "1        31865            123      2034  14687  12653  ...      0      0   \n",
       "2        37413             72     12670   7535   4939  ...    880  20205   \n",
       "3        45638            131      3990  16398   3834  ...      0  20388   \n",
       "\n",
       "     pc  dup  sf  sdlp  uup  alliance  other  other_winner  \n",
       "0  2711    0   0     0    0         0    731             0  \n",
       "1  2704    0   0     0    0         0      0             0  \n",
       "2     0    0   0     0    0         0      0             0  \n",
       "3     0    0   0     0    0         0      0             0  \n",
       "\n",
       "[4 rows x 22 columns]"
      ]
     },
     "execution_count": 153,
     "metadata": {},
     "output_type": "execute_result"
    }
   ],
   "source": [
    "election_df.head(4)"
   ]
  },
  {
   "cell_type": "code",
   "execution_count": 154,
   "metadata": {},
   "outputs": [
    {
     "data": {
      "text/plain": [
       "0    lab\n",
       "1    con\n",
       "2    snp\n",
       "3    snp\n",
       "Name: first_party, dtype: object"
      ]
     },
     "execution_count": 154,
     "metadata": {},
     "output_type": "execute_result"
    }
   ],
   "source": [
    "election_df['first_party'][0:4]"
   ]
  },
  {
   "cell_type": "code",
   "execution_count": 155,
   "metadata": {},
   "outputs": [
    {
     "data": {
      "text/plain": [
       "array(['lab', 'con', 'snp', 'pc', 'ld', 'dup', 'sf', 'sdlp', 'green',\n",
       "       'spk', 'alliance'], dtype=object)"
      ]
     },
     "execution_count": 155,
     "metadata": {},
     "output_type": "execute_result"
    }
   ],
   "source": [
    "partiesdf = election_df['first_party'].unique()\n",
    "partiesdf"
   ]
  },
  {
   "cell_type": "code",
   "execution_count": 156,
   "metadata": {},
   "outputs": [
    {
     "data": {
      "text/plain": [
       "202"
      ]
     },
     "execution_count": 156,
     "metadata": {},
     "output_type": "execute_result"
    }
   ],
   "source": [
    "labwinsdf = len(election_df[election_df['first_party'] == 'lab'])\n",
    "labwinsdf"
   ]
  },
  {
   "cell_type": "code",
   "execution_count": 157,
   "metadata": {},
   "outputs": [
    {
     "data": {
      "text/plain": [
       "0       True\n",
       "1      False\n",
       "2      False\n",
       "3      False\n",
       "4      False\n",
       "       ...  \n",
       "645     True\n",
       "646    False\n",
       "647    False\n",
       "648     True\n",
       "649    False\n",
       "Name: first_party, Length: 650, dtype: bool"
      ]
     },
     "execution_count": 157,
     "metadata": {},
     "output_type": "execute_result"
    }
   ],
   "source": [
    "election_df['first_party'] == 'lab'"
   ]
  },
  {
   "cell_type": "code",
   "execution_count": 158,
   "metadata": {},
   "outputs": [
    {
     "data": {
      "text/html": [
       "<div>\n",
       "<style scoped>\n",
       "    .dataframe tbody tr th:only-of-type {\n",
       "        vertical-align: middle;\n",
       "    }\n",
       "\n",
       "    .dataframe tbody tr th {\n",
       "        vertical-align: top;\n",
       "    }\n",
       "\n",
       "    .dataframe thead th {\n",
       "        text-align: right;\n",
       "    }\n",
       "</style>\n",
       "<table border=\"1\" class=\"dataframe\">\n",
       "  <thead>\n",
       "    <tr style=\"text-align: right;\">\n",
       "      <th></th>\n",
       "      <th>ons_id</th>\n",
       "      <th>result</th>\n",
       "      <th>first_party</th>\n",
       "      <th>second_party</th>\n",
       "      <th>electorate</th>\n",
       "      <th>valid_votes</th>\n",
       "      <th>invalid_votes</th>\n",
       "      <th>majority</th>\n",
       "      <th>con</th>\n",
       "      <th>lab</th>\n",
       "      <th>...</th>\n",
       "      <th>green</th>\n",
       "      <th>snp</th>\n",
       "      <th>pc</th>\n",
       "      <th>dup</th>\n",
       "      <th>sf</th>\n",
       "      <th>sdlp</th>\n",
       "      <th>uup</th>\n",
       "      <th>alliance</th>\n",
       "      <th>other</th>\n",
       "      <th>other_winner</th>\n",
       "    </tr>\n",
       "  </thead>\n",
       "  <tbody>\n",
       "    <tr>\n",
       "      <th>0</th>\n",
       "      <td>W07000049</td>\n",
       "      <td>Lab hold</td>\n",
       "      <td>lab</td>\n",
       "      <td>con</td>\n",
       "      <td>50750</td>\n",
       "      <td>31598</td>\n",
       "      <td>82</td>\n",
       "      <td>10490</td>\n",
       "      <td>6518</td>\n",
       "      <td>17008</td>\n",
       "      <td>...</td>\n",
       "      <td>450</td>\n",
       "      <td>0</td>\n",
       "      <td>2711</td>\n",
       "      <td>0</td>\n",
       "      <td>0</td>\n",
       "      <td>0</td>\n",
       "      <td>0</td>\n",
       "      <td>0</td>\n",
       "      <td>731</td>\n",
       "      <td>0</td>\n",
       "    </tr>\n",
       "    <tr>\n",
       "      <th>8</th>\n",
       "      <td>W07000043</td>\n",
       "      <td>Lab hold</td>\n",
       "      <td>lab</td>\n",
       "      <td>con</td>\n",
       "      <td>62789</td>\n",
       "      <td>43008</td>\n",
       "      <td>121</td>\n",
       "      <td>213</td>\n",
       "      <td>18058</td>\n",
       "      <td>18271</td>\n",
       "      <td>...</td>\n",
       "      <td>0</td>\n",
       "      <td>0</td>\n",
       "      <td>1453</td>\n",
       "      <td>0</td>\n",
       "      <td>0</td>\n",
       "      <td>0</td>\n",
       "      <td>0</td>\n",
       "      <td>0</td>\n",
       "      <td>0</td>\n",
       "      <td>0</td>\n",
       "    </tr>\n",
       "    <tr>\n",
       "      <th>16</th>\n",
       "      <td>E14000537</td>\n",
       "      <td>Lab hold</td>\n",
       "      <td>lab</td>\n",
       "      <td>con</td>\n",
       "      <td>67978</td>\n",
       "      <td>38579</td>\n",
       "      <td>125</td>\n",
       "      <td>4263</td>\n",
       "      <td>14281</td>\n",
       "      <td>18544</td>\n",
       "      <td>...</td>\n",
       "      <td>1208</td>\n",
       "      <td>0</td>\n",
       "      <td>0</td>\n",
       "      <td>0</td>\n",
       "      <td>0</td>\n",
       "      <td>0</td>\n",
       "      <td>0</td>\n",
       "      <td>0</td>\n",
       "      <td>0</td>\n",
       "      <td>0</td>\n",
       "    </tr>\n",
       "    <tr>\n",
       "      <th>21</th>\n",
       "      <td>E14000540</td>\n",
       "      <td>Lab hold</td>\n",
       "      <td>lab</td>\n",
       "      <td>con</td>\n",
       "      <td>77953</td>\n",
       "      <td>44499</td>\n",
       "      <td>120</td>\n",
       "      <td>15427</td>\n",
       "      <td>11792</td>\n",
       "      <td>27219</td>\n",
       "      <td>...</td>\n",
       "      <td>820</td>\n",
       "      <td>0</td>\n",
       "      <td>0</td>\n",
       "      <td>0</td>\n",
       "      <td>0</td>\n",
       "      <td>0</td>\n",
       "      <td>0</td>\n",
       "      <td>0</td>\n",
       "      <td>0</td>\n",
       "      <td>0</td>\n",
       "    </tr>\n",
       "    <tr>\n",
       "      <th>22</th>\n",
       "      <td>E14000541</td>\n",
       "      <td>Lab hold</td>\n",
       "      <td>lab</td>\n",
       "      <td>brexit</td>\n",
       "      <td>65277</td>\n",
       "      <td>36903</td>\n",
       "      <td>105</td>\n",
       "      <td>3571</td>\n",
       "      <td>7892</td>\n",
       "      <td>14804</td>\n",
       "      <td>...</td>\n",
       "      <td>900</td>\n",
       "      <td>0</td>\n",
       "      <td>0</td>\n",
       "      <td>0</td>\n",
       "      <td>0</td>\n",
       "      <td>0</td>\n",
       "      <td>0</td>\n",
       "      <td>0</td>\n",
       "      <td>898</td>\n",
       "      <td>0</td>\n",
       "    </tr>\n",
       "    <tr>\n",
       "      <th>...</th>\n",
       "      <td>...</td>\n",
       "      <td>...</td>\n",
       "      <td>...</td>\n",
       "      <td>...</td>\n",
       "      <td>...</td>\n",
       "      <td>...</td>\n",
       "      <td>...</td>\n",
       "      <td>...</td>\n",
       "      <td>...</td>\n",
       "      <td>...</td>\n",
       "      <td>...</td>\n",
       "      <td>...</td>\n",
       "      <td>...</td>\n",
       "      <td>...</td>\n",
       "      <td>...</td>\n",
       "      <td>...</td>\n",
       "      <td>...</td>\n",
       "      <td>...</td>\n",
       "      <td>...</td>\n",
       "      <td>...</td>\n",
       "      <td>...</td>\n",
       "    </tr>\n",
       "    <tr>\n",
       "      <th>629</th>\n",
       "      <td>E14001044</td>\n",
       "      <td>Lab hold</td>\n",
       "      <td>lab</td>\n",
       "      <td>con</td>\n",
       "      <td>55550</td>\n",
       "      <td>42918</td>\n",
       "      <td>107</td>\n",
       "      <td>3003</td>\n",
       "      <td>17692</td>\n",
       "      <td>20695</td>\n",
       "      <td>...</td>\n",
       "      <td>965</td>\n",
       "      <td>0</td>\n",
       "      <td>0</td>\n",
       "      <td>0</td>\n",
       "      <td>0</td>\n",
       "      <td>0</td>\n",
       "      <td>0</td>\n",
       "      <td>0</td>\n",
       "      <td>0</td>\n",
       "      <td>0</td>\n",
       "    </tr>\n",
       "    <tr>\n",
       "      <th>635</th>\n",
       "      <td>E14001050</td>\n",
       "      <td>Lab hold</td>\n",
       "      <td>lab</td>\n",
       "      <td>con</td>\n",
       "      <td>62883</td>\n",
       "      <td>33443</td>\n",
       "      <td>78</td>\n",
       "      <td>1235</td>\n",
       "      <td>14287</td>\n",
       "      <td>15522</td>\n",
       "      <td>...</td>\n",
       "      <td>521</td>\n",
       "      <td>0</td>\n",
       "      <td>0</td>\n",
       "      <td>0</td>\n",
       "      <td>0</td>\n",
       "      <td>0</td>\n",
       "      <td>0</td>\n",
       "      <td>0</td>\n",
       "      <td>0</td>\n",
       "      <td>0</td>\n",
       "    </tr>\n",
       "    <tr>\n",
       "      <th>639</th>\n",
       "      <td>E14001054</td>\n",
       "      <td>Lab hold</td>\n",
       "      <td>lab</td>\n",
       "      <td>con</td>\n",
       "      <td>75219</td>\n",
       "      <td>44707</td>\n",
       "      <td>118</td>\n",
       "      <td>3219</td>\n",
       "      <td>17227</td>\n",
       "      <td>20446</td>\n",
       "      <td>...</td>\n",
       "      <td>1300</td>\n",
       "      <td>0</td>\n",
       "      <td>0</td>\n",
       "      <td>0</td>\n",
       "      <td>0</td>\n",
       "      <td>0</td>\n",
       "      <td>0</td>\n",
       "      <td>0</td>\n",
       "      <td>0</td>\n",
       "      <td>0</td>\n",
       "    </tr>\n",
       "    <tr>\n",
       "      <th>645</th>\n",
       "      <td>E14001059</td>\n",
       "      <td>Lab hold</td>\n",
       "      <td>lab</td>\n",
       "      <td>con</td>\n",
       "      <td>76313</td>\n",
       "      <td>44759</td>\n",
       "      <td>125</td>\n",
       "      <td>10396</td>\n",
       "      <td>13459</td>\n",
       "      <td>23855</td>\n",
       "      <td>...</td>\n",
       "      <td>1559</td>\n",
       "      <td>0</td>\n",
       "      <td>0</td>\n",
       "      <td>0</td>\n",
       "      <td>0</td>\n",
       "      <td>0</td>\n",
       "      <td>0</td>\n",
       "      <td>0</td>\n",
       "      <td>58</td>\n",
       "      <td>0</td>\n",
       "    </tr>\n",
       "    <tr>\n",
       "      <th>648</th>\n",
       "      <td>E14001061</td>\n",
       "      <td>Lab hold</td>\n",
       "      <td>lab</td>\n",
       "      <td>con</td>\n",
       "      <td>74899</td>\n",
       "      <td>49505</td>\n",
       "      <td>198</td>\n",
       "      <td>13545</td>\n",
       "      <td>13767</td>\n",
       "      <td>27312</td>\n",
       "      <td>...</td>\n",
       "      <td>2107</td>\n",
       "      <td>0</td>\n",
       "      <td>0</td>\n",
       "      <td>0</td>\n",
       "      <td>0</td>\n",
       "      <td>0</td>\n",
       "      <td>0</td>\n",
       "      <td>0</td>\n",
       "      <td>691</td>\n",
       "      <td>0</td>\n",
       "    </tr>\n",
       "  </tbody>\n",
       "</table>\n",
       "<p>202 rows × 22 columns</p>\n",
       "</div>"
      ],
      "text/plain": [
       "        ons_id    result first_party second_party  electorate  valid_votes  \\\n",
       "0    W07000049  Lab hold         lab          con       50750        31598   \n",
       "8    W07000043  Lab hold         lab          con       62789        43008   \n",
       "16   E14000537  Lab hold         lab          con       67978        38579   \n",
       "21   E14000540  Lab hold         lab          con       77953        44499   \n",
       "22   E14000541  Lab hold         lab       brexit       65277        36903   \n",
       "..         ...       ...         ...          ...         ...          ...   \n",
       "629  E14001044  Lab hold         lab          con       55550        42918   \n",
       "635  E14001050  Lab hold         lab          con       62883        33443   \n",
       "639  E14001054  Lab hold         lab          con       75219        44707   \n",
       "645  E14001059  Lab hold         lab          con       76313        44759   \n",
       "648  E14001061  Lab hold         lab          con       74899        49505   \n",
       "\n",
       "     invalid_votes  majority    con    lab  ...  green  snp    pc  dup  sf  \\\n",
       "0               82     10490   6518  17008  ...    450    0  2711    0   0   \n",
       "8              121       213  18058  18271  ...      0    0  1453    0   0   \n",
       "16             125      4263  14281  18544  ...   1208    0     0    0   0   \n",
       "21             120     15427  11792  27219  ...    820    0     0    0   0   \n",
       "22             105      3571   7892  14804  ...    900    0     0    0   0   \n",
       "..             ...       ...    ...    ...  ...    ...  ...   ...  ...  ..   \n",
       "629            107      3003  17692  20695  ...    965    0     0    0   0   \n",
       "635             78      1235  14287  15522  ...    521    0     0    0   0   \n",
       "639            118      3219  17227  20446  ...   1300    0     0    0   0   \n",
       "645            125     10396  13459  23855  ...   1559    0     0    0   0   \n",
       "648            198     13545  13767  27312  ...   2107    0     0    0   0   \n",
       "\n",
       "     sdlp  uup  alliance  other  other_winner  \n",
       "0       0    0         0    731             0  \n",
       "8       0    0         0      0             0  \n",
       "16      0    0         0      0             0  \n",
       "21      0    0         0      0             0  \n",
       "22      0    0         0    898             0  \n",
       "..    ...  ...       ...    ...           ...  \n",
       "629     0    0         0      0             0  \n",
       "635     0    0         0      0             0  \n",
       "639     0    0         0      0             0  \n",
       "645     0    0         0     58             0  \n",
       "648     0    0         0    691             0  \n",
       "\n",
       "[202 rows x 22 columns]"
      ]
     },
     "execution_count": 158,
     "metadata": {},
     "output_type": "execute_result"
    }
   ],
   "source": [
    "election_df[election_df['first_party']=='lab']"
   ]
  },
  {
   "cell_type": "code",
   "execution_count": 159,
   "metadata": {},
   "outputs": [
    {
     "name": "stdout",
     "output_type": "stream",
     "text": [
      "['lab' 'con' 'snp' 'pc' 'ld' 'dup' 'sf' 'sdlp' 'green' 'spk' 'alliance']\n"
     ]
    },
    {
     "data": {
      "text/plain": [
       "[202, 365, 48, 4, 11, 8, 7, 2, 1, 1, 1]"
      ]
     },
     "execution_count": 159,
     "metadata": {},
     "output_type": "execute_result"
    }
   ],
   "source": [
    "partywinsdf = []\n",
    "\n",
    "for i in partiesdf:\n",
    "    partywinsdf.append(len(election_df[election_df['first_party']==i]))\n",
    "print(partiesdf)\n",
    "partywinsdf"
   ]
  },
  {
   "cell_type": "code",
   "execution_count": 160,
   "metadata": {},
   "outputs": [
    {
     "name": "stdout",
     "output_type": "stream",
     "text": [
      "['lab' 'con' 'snp' 'pc' 'ld' 'dup' 'sf' 'sdlp' 'green' 'spk' 'alliance']\n"
     ]
    },
    {
     "data": {
      "text/plain": [
       "[202, 365, 48, 4, 11, 8, 7, 2, 1, 1, 1]"
      ]
     },
     "execution_count": 160,
     "metadata": {},
     "output_type": "execute_result"
    }
   ],
   "source": [
    "partywinsdf = [len(election_df[election_df['first_party']==i]) for i in partiesdf]\n",
    "print(partiesdf)\n",
    "partywinsdf"
   ]
  },
  {
   "cell_type": "code",
   "execution_count": 161,
   "metadata": {},
   "outputs": [
    {
     "data": {
      "text/plain": [
       "array(['lab', 'con', 'snp', 'pc', 'ld', 'dup', 'sf', 'sdlp', 'green',\n",
       "       'spk', 'alliance'], dtype=object)"
      ]
     },
     "execution_count": 161,
     "metadata": {},
     "output_type": "execute_result"
    }
   ],
   "source": [
    "partiesdf"
   ]
  },
  {
   "cell_type": "code",
   "execution_count": 162,
   "metadata": {},
   "outputs": [],
   "source": [
    "# make image background white for use in external docs\n",
    "import matplotlib\n",
    "matplotlib.rcParams['figure.facecolor'] = 'white'"
   ]
  },
  {
   "cell_type": "code",
   "execution_count": 163,
   "metadata": {},
   "outputs": [
    {
     "data": {
      "text/plain": [
       "<AxesSubplot:title={'center':'Seat allocation per party'}>"
      ]
     },
     "execution_count": 163,
     "metadata": {},
     "output_type": "execute_result"
    },
    {
     "data": {
      "image/png": "[encoded data removed]",
      "text/plain": [
       "<Figure size 432x288 with 1 Axes>"
      ]
     },
     "metadata": {},
     "output_type": "display_data"
    }
   ],
   "source": [
    "seat_allocation_df = pd.DataFrame(partywinsdf,partiesdf)\n",
    "seat_allocation_df.plot.bar(legend=False,title='Seat allocation per party')\n"
   ]
  },
  {
   "cell_type": "code",
   "execution_count": 164,
   "metadata": {},
   "outputs": [
    {
     "data": {
      "text/plain": [
       "Index(['ons_id', 'result', 'first_party', 'second_party', 'electorate',\n",
       "       'valid_votes', 'invalid_votes', 'majority', 'con', 'lab', 'ld',\n",
       "       'brexit', 'green', 'snp', 'pc', 'dup', 'sf', 'sdlp', 'uup', 'alliance',\n",
       "       'other', 'other_winner'],\n",
       "      dtype='object')"
      ]
     },
     "execution_count": 164,
     "metadata": {},
     "output_type": "execute_result"
    }
   ],
   "source": [
    "election_df.columns"
   ]
  },
  {
   "cell_type": "code",
   "execution_count": 165,
   "metadata": {},
   "outputs": [
    {
     "data": {
      "text/plain": [
       "1"
      ]
     },
     "execution_count": 165,
     "metadata": {},
     "output_type": "execute_result"
    }
   ],
   "source": [
    "# remove speaker\n",
    "\n",
    "partiesdf = list(partiesdf)\n",
    "partiesdf.pop(9)\n",
    "seats = list(partywinsdf)\n",
    "seats.pop(9)\n"
   ]
  },
  {
   "cell_type": "code",
   "execution_count": 166,
   "metadata": {},
   "outputs": [
    {
     "name": "stdout",
     "output_type": "stream",
     "text": [
      "32014110\n"
     ]
    },
    {
     "data": {
      "text/plain": [
       "[10269051,\n",
       " 13966454,\n",
       " 1242380,\n",
       " 153265,\n",
       " 3696419,\n",
       " 244128,\n",
       " 181853,\n",
       " 118737,\n",
       " 865715,\n",
       " 134115]"
      ]
     },
     "execution_count": 166,
     "metadata": {},
     "output_type": "execute_result"
    }
   ],
   "source": [
    "\n",
    "\n",
    "total_votes=election_df['valid_votes'].sum()\n",
    "print(total_votes)\n",
    "\n",
    "total_votes_party = [election_df[i].sum() for i in partiesdf]\n",
    "total_votes_party"
   ]
  },
  {
   "cell_type": "code",
   "execution_count": 167,
   "metadata": {},
   "outputs": [
    {
     "data": {
      "text/html": [
       "<div>\n",
       "<style scoped>\n",
       "    .dataframe tbody tr th:only-of-type {\n",
       "        vertical-align: middle;\n",
       "    }\n",
       "\n",
       "    .dataframe tbody tr th {\n",
       "        vertical-align: top;\n",
       "    }\n",
       "\n",
       "    .dataframe thead th {\n",
       "        text-align: right;\n",
       "    }\n",
       "</style>\n",
       "<table border=\"1\" class=\"dataframe\">\n",
       "  <thead>\n",
       "    <tr style=\"text-align: right;\">\n",
       "      <th></th>\n",
       "      <th>partiesdf</th>\n",
       "      <th>votes</th>\n",
       "      <th>percentage_votes</th>\n",
       "      <th>seats</th>\n",
       "      <th>percentage_seats</th>\n",
       "      <th>deficit</th>\n",
       "      <th>proportional_seats</th>\n",
       "    </tr>\n",
       "  </thead>\n",
       "  <tbody>\n",
       "    <tr>\n",
       "      <th>0</th>\n",
       "      <td>lab</td>\n",
       "      <td>10269051</td>\n",
       "      <td>32.076641</td>\n",
       "      <td>202</td>\n",
       "      <td>31.076923</td>\n",
       "      <td>-0.999718</td>\n",
       "      <td>208.498164</td>\n",
       "    </tr>\n",
       "    <tr>\n",
       "      <th>1</th>\n",
       "      <td>con</td>\n",
       "      <td>13966454</td>\n",
       "      <td>43.625932</td>\n",
       "      <td>365</td>\n",
       "      <td>56.153846</td>\n",
       "      <td>12.527914</td>\n",
       "      <td>283.568561</td>\n",
       "    </tr>\n",
       "    <tr>\n",
       "      <th>2</th>\n",
       "      <td>snp</td>\n",
       "      <td>1242380</td>\n",
       "      <td>3.880726</td>\n",
       "      <td>48</td>\n",
       "      <td>7.384615</td>\n",
       "      <td>3.503889</td>\n",
       "      <td>25.224721</td>\n",
       "    </tr>\n",
       "    <tr>\n",
       "      <th>3</th>\n",
       "      <td>pc</td>\n",
       "      <td>153265</td>\n",
       "      <td>0.478742</td>\n",
       "      <td>4</td>\n",
       "      <td>0.615385</td>\n",
       "      <td>0.136643</td>\n",
       "      <td>3.111823</td>\n",
       "    </tr>\n",
       "    <tr>\n",
       "      <th>4</th>\n",
       "      <td>ld</td>\n",
       "      <td>3696419</td>\n",
       "      <td>11.546218</td>\n",
       "      <td>11</td>\n",
       "      <td>1.692308</td>\n",
       "      <td>-9.853911</td>\n",
       "      <td>75.050418</td>\n",
       "    </tr>\n",
       "    <tr>\n",
       "      <th>5</th>\n",
       "      <td>dup</td>\n",
       "      <td>244128</td>\n",
       "      <td>0.762564</td>\n",
       "      <td>8</td>\n",
       "      <td>1.230769</td>\n",
       "      <td>0.468205</td>\n",
       "      <td>4.956664</td>\n",
       "    </tr>\n",
       "    <tr>\n",
       "      <th>6</th>\n",
       "      <td>sf</td>\n",
       "      <td>181853</td>\n",
       "      <td>0.568040</td>\n",
       "      <td>7</td>\n",
       "      <td>1.076923</td>\n",
       "      <td>0.508883</td>\n",
       "      <td>3.692261</td>\n",
       "    </tr>\n",
       "    <tr>\n",
       "      <th>7</th>\n",
       "      <td>sdlp</td>\n",
       "      <td>118737</td>\n",
       "      <td>0.370890</td>\n",
       "      <td>2</td>\n",
       "      <td>0.307692</td>\n",
       "      <td>-0.063197</td>\n",
       "      <td>2.410782</td>\n",
       "    </tr>\n",
       "    <tr>\n",
       "      <th>8</th>\n",
       "      <td>green</td>\n",
       "      <td>865715</td>\n",
       "      <td>2.704167</td>\n",
       "      <td>1</td>\n",
       "      <td>0.153846</td>\n",
       "      <td>-2.550321</td>\n",
       "      <td>17.577086</td>\n",
       "    </tr>\n",
       "    <tr>\n",
       "      <th>9</th>\n",
       "      <td>alliance</td>\n",
       "      <td>134115</td>\n",
       "      <td>0.418925</td>\n",
       "      <td>1</td>\n",
       "      <td>0.153846</td>\n",
       "      <td>-0.265079</td>\n",
       "      <td>2.723010</td>\n",
       "    </tr>\n",
       "  </tbody>\n",
       "</table>\n",
       "</div>"
      ],
      "text/plain": [
       "  partiesdf     votes  percentage_votes  seats  percentage_seats    deficit  \\\n",
       "0       lab  10269051         32.076641    202         31.076923  -0.999718   \n",
       "1       con  13966454         43.625932    365         56.153846  12.527914   \n",
       "2       snp   1242380          3.880726     48          7.384615   3.503889   \n",
       "3        pc    153265          0.478742      4          0.615385   0.136643   \n",
       "4        ld   3696419         11.546218     11          1.692308  -9.853911   \n",
       "5       dup    244128          0.762564      8          1.230769   0.468205   \n",
       "6        sf    181853          0.568040      7          1.076923   0.508883   \n",
       "7      sdlp    118737          0.370890      2          0.307692  -0.063197   \n",
       "8     green    865715          2.704167      1          0.153846  -2.550321   \n",
       "9  alliance    134115          0.418925      1          0.153846  -0.265079   \n",
       "\n",
       "   proportional_seats  \n",
       "0          208.498164  \n",
       "1          283.568561  \n",
       "2           25.224721  \n",
       "3            3.111823  \n",
       "4           75.050418  \n",
       "5            4.956664  \n",
       "6            3.692261  \n",
       "7            2.410782  \n",
       "8           17.577086  \n",
       "9            2.723010  "
      ]
     },
     "execution_count": 167,
     "metadata": {},
     "output_type": "execute_result"
    },
    {
     "data": {
      "image/png": "[encoded data removed]",
      "text/plain": [
       "<Figure size 1080x360 with 1 Axes>"
      ]
     },
     "metadata": {},
     "output_type": "display_data"
    },
    {
     "data": {
      "image/png": "[encoded data removed]",
      "text/plain": [
       "<Figure size 432x288 with 1 Axes>"
      ]
     },
     "metadata": {},
     "output_type": "display_data"
    },
    {
     "data": {
      "image/png": "[encoded data removed]",
      "text/plain": [
       "<Figure size 1080x360 with 1 Axes>"
      ]
     },
     "metadata": {},
     "output_type": "display_data"
    }
   ],
   "source": [
    "#share = [ total_votes_party[i]/total_votes*100 for i in range(0,len(total_votes_party))]\n",
    "\n",
    "share_df = pd.DataFrame()\n",
    "share_df['partiesdf'] = partiesdf\n",
    "share_df['votes'] = total_votes_party\n",
    "share_df['percentage_votes']=share_df['votes']/total_votes*100\n",
    "share_df['seats'] = seats\n",
    "share_df['percentage_seats']=share_df['seats']/650*100\n",
    "share_df['deficit']=share_df['percentage_seats']-share_df['percentage_votes']\n",
    "share_df['proportional_seats']=share_df['percentage_votes']/100*650\n",
    "\n",
    "share_df.plot.barh(x='partiesdf',y=['percentage_seats','percentage_votes'],figsize=(15,5))\n",
    "share_df.plot.bar(x='partiesdf',y='deficit')\n",
    "share_df.plot.bar(x='partiesdf',y=['seats','proportional_seats'],figsize=(15,5))\n",
    "\n",
    "share_df"
   ]
  }
 ],
 "metadata": {
  "interpreter": {
   "hash": "ebf8d43d3d173dc48345ffb6b59ad16b10ee255e28de3a129e6f6400e8327d9f"
  },
  "kernelspec": {
   "display_name": "Python 3.9.7 64-bit ('base': conda)",
   "language": "python",
   "name": "python3"
  },
  "language_info": {
   "codemirror_mode": {
    "name": "ipython",
    "version": 3
   },
   "file_extension": ".py",
   "mimetype": "text/x-python",
   "name": "python",
   "nbconvert_exporter": "python",
   "pygments_lexer": "ipython3",
   "version": "3.9.8"
  },
  "orig_nbformat": 4
 },
 "nbformat": 4,
 "nbformat_minor": 2
}
