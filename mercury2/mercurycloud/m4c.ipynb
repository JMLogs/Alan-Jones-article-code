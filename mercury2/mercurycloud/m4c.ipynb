{
 "cells": [
  {
   "attachments": {},
   "cell_type": "markdown",
   "metadata": {},
   "source": [
    "# Another CO2 Emissions chart\n",
    "### An example of how to create a web app from a Jupyter notebook with Mercury.\n",
    "\n",
    "### See the tutorial: [Build a Web App with Jupyter and Mercury](https://medium.com/towards-data-science/build-a-web-app-with-jupyter-and-mercury-9d59661441b7)"
   ]
  },
  {
   "cell_type": "code",
   "execution_count": null,
   "metadata": {},
   "outputs": [],
   "source": [
    "import mercury as mr\n",
    "import plotly.express as px\n",
    "import pandas as pd"
   ]
  },
  {
   "cell_type": "code",
   "execution_count": null,
   "metadata": {},
   "outputs": [],
   "source": [
    "# set Application parameters\n",
    "app = mr.App(title=\"CO2 Emissions control panel 2\",\n",
    "        description=\"Data showing global emissions over more than 100 years\",\n",
    "        show_code=False,\n",
    "        show_prompt=False,\n",
    "        continuous_update=True,\n",
    "        static_notebook=False,\n",
    "        show_sidebar=False,\n",
    "        full_screen=True,\n",
    "        allow_download=False)\n"
   ]
  },
  {
   "attachments": {},
   "cell_type": "markdown",
   "metadata": {},
   "source": [
    "# CO2 Emissions for the years 1850 to 2021 "
   ]
  },
  {
   "cell_type": "code",
   "execution_count": null,
   "metadata": {},
   "outputs": [],
   "source": [
    "# Get the data\n",
    "def get_countries_data(): \n",
    "    url = \"https://github.com/alanjones2/CO2/raw/master/data/countries_df.csv\"\n",
    "    return pd.read_csv(url)\n",
    "def get_continent_data():\n",
    "    url = 'https://github.com/alanjones2/CO2/raw/master/data/continents_df.csv'\n",
    "    return pd.read_csv(url)\n",
    "def get_world_data():\n",
    "    url = 'https://github.com/alanjones2/CO2/raw/master/data/world_df.csv'\n",
    "    return pd.read_csv(url)\n",
    "def get_group_data():\n",
    "    url = 'https://github.com/alanjones2/CO2/raw/master/data/income_types_df.csv'\n",
    "    return pd.read_csv(url)\n",
    "\n",
    "df_countries= get_countries_data()\n",
    "df_continents= get_continent_data()\n",
    "df_world = get_world_data()\n",
    "df_groups = get_group_data()"
   ]
  },
  {
   "attachments": {},
   "cell_type": "markdown",
   "metadata": {},
   "source": [
    "### Emissions for the whole world"
   ]
  },
  {
   "cell_type": "code",
   "execution_count": null,
   "metadata": {},
   "outputs": [],
   "source": [
    "df_world.head()"
   ]
  },
  {
   "cell_type": "code",
   "execution_count": null,
   "metadata": {},
   "outputs": [],
   "source": [
    "fig = px.line(df_world,\"Year\",\"Annual CO₂ emissions\", \n",
    "               width=1000, height=500,\n",
    "               title=f\"Annual CO₂ emissions for the World\")\n",
    "\n",
    "fig.show()"
   ]
  }
 ],
 "metadata": {
  "kernelspec": {
   "display_name": "mercury11",
   "language": "python",
   "name": "python3"
  },
  "language_info": {
   "codemirror_mode": {
    "name": "ipython",
    "version": 3
   },
   "file_extension": ".py",
   "mimetype": "text/x-python",
   "name": "python",
   "nbconvert_exporter": "python",
   "pygments_lexer": "ipython3",
   "version": "3.11.3"
  },
  "orig_nbformat": 4
 },
 "nbformat": 4,
 "nbformat_minor": 2
}
