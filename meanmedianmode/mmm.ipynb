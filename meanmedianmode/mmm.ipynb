{
 "cells": [
  {
   "cell_type": "markdown",
   "id": "ae707dcb",
   "metadata": {},
   "source": [
    "### Statistics 101\n",
    "\n",
    "## Mean, Median and Mode: What Are they and When Should You Use Them\n",
    "\n",
    "### You probably remember Mean, Median and Mode from high school stats classes but they are often used wrongly. We look at how you _should_ use them with Python Pandas examples.\n",
    "\n",
    "What is the average height of an 18-year-old American male? Or the average price of a house in Madrid? Or the average grade achieved by high school students in England?\n",
    "\n",
    "These are all perfectly worded questions but mean something slightly different in each case. The average in the first case is calculated using the _mean_, the house prices would be better represented using the _median_ and the school grades by the _mode_.\n",
    "\n",
    "The average is a measurement of a central tendency and typically we would expect that it would be calculated by adding a set of values  together and then dividing by the number of values. \n",
    "\n",
    "This is the _mean_ and this works perfectly well for a normally distributed set of data like height.\n",
    "The _median_ is the central value meaning that there are an equal number of measurements either side of this value.\n",
    "Whereas the _mode_ is the most frequent value in a set.\n",
    "\n",
    "You can legitimately track the height of adult Americans by adding all of their height together and divided by the number of Americans. (That's quite a task so you'd probably want to take a representative sample instead.)\n",
    "\n",
    "And if you tracked this over time you'd get a graph like the one below from Our World in Data.\n",
    "\n",
    "\n",
    "![Change in height](https://github.com/alanjones2/Alan-Jones-article-code/raw/master/meanmedianmode/images/changeinheight.png)\n",
    "\n",
    "This works fine because height follows a normal distribution as illustrated here:\n",
    "\n",
    "![Height distribution](https://github.com/alanjones2/Alan-Jones-article-code/raw/master/meanmedianmode/images/heightnormaldist.jpg)\n",
    "\n",
    "Licensed by [Illustrative Mathematics](https://illustrativemathematics.org/) under a\n",
    "Creative Commons Attribution-NonCommercial-ShareAlike 4.0 International \n",
    "\n",
    "In a normal distribution values are distributed evenly around a central point and tail off similarly to the left and right. You can see the mean in the graph above is 70 inches.\n",
    "\n",
    "![Levante players](https://github.com/alanjones2/Alan-Jones-article-code/raw/master/meanmedianmode/images/levante10.png)\n",
    "\n",
    "In a normal distribution the mean and the median are the same value but that is not true for other types of distribution.\n",
    "\n",
    "Take the house price example. In Madrid like in any other major city there are a wide range of properties and prices but there are a small number\n"
   ]
  },
  {
   "cell_type": "code",
   "execution_count": 21,
   "id": "2c43eba1",
   "metadata": {},
   "outputs": [],
   "source": [
    "import pandas as pd\n",
    "sal = pd.read_csv('levantesal.csv')"
   ]
  },
  {
   "cell_type": "markdown",
   "id": "0fd188b3",
   "metadata": {},
   "source": [
    "The data come from the web site [Salary Sport](https://salarysport.com/football/la-liga/levante/) and to the best of my knowledge (which is admittedly limited) are, at least indicative of the actual salaries."
   ]
  },
  {
   "cell_type": "code",
   "execution_count": 22,
   "id": "eb0741f9",
   "metadata": {},
   "outputs": [
    {
     "name": "stdout",
     "output_type": "stream",
     "text": [
      "Mean weekly wage with Messi 49051.724137931036\n",
      "Mean weekly wage without Messi 15089.285714285714\n",
      "3.250765149969394\n"
     ]
    }
   ],
   "source": [
    "print(f\"Mean weekly wage with Messi {sal['Weekly Wage'].mean()}\")\n",
    "print(f\"Mean weekly wage without Messi {sal[sal['Player Name'] != 'Messi']['Weekly Wage'].mean()}\")\n",
    "print(sal['Weekly Wage'].mean()/sal[sal['Player Name'] != 'Messi']['Weekly Wage'].mean())"
   ]
  },
  {
   "cell_type": "code",
   "execution_count": null,
   "id": "16cb8be1",
   "metadata": {},
   "outputs": [],
   "source": []
  },
  {
   "cell_type": "markdown",
   "id": "13923936",
   "metadata": {},
   "source": [
    "https://gist.github.com/alanjones2/4d570fc1c9835d4732c1d64bbaaca547"
   ]
  },
  {
   "cell_type": "code",
   "execution_count": 23,
   "id": "d9f995e4",
   "metadata": {},
   "outputs": [
    {
     "name": "stdout",
     "output_type": "stream",
     "text": [
      "Median weekly wage with Messi 15000.0\n",
      "Median weekly wage without Messi 14500.0\n",
      "1.0344827586206897\n"
     ]
    }
   ],
   "source": [
    "print(f\"Median weekly wage with Messi {sal['Weekly Wage'].median()}\")\n",
    "print(f\"Median weekly wage without Messi {sal[sal['Player Name'] != 'Messi']['Weekly Wage'].median()}\")\n",
    "print(sal['Weekly Wage'].median()/sal[sal['Player Name'] != 'Messi']['Weekly Wage'].median())"
   ]
  }
 ],
 "metadata": {
  "kernelspec": {
   "display_name": "Python 3 (ipykernel)",
   "language": "python",
   "name": "python3"
  },
  "language_info": {
   "codemirror_mode": {
    "name": "ipython",
    "version": 3
   },
   "file_extension": ".py",
   "mimetype": "text/x-python",
   "name": "python",
   "nbconvert_exporter": "python",
   "pygments_lexer": "ipython3",
   "version": "3.9.8"
  }
 },
 "nbformat": 4,
 "nbformat_minor": 5
}
